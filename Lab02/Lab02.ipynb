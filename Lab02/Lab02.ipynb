{
 "cells": [
  {
   "cell_type": "markdown",
   "id": "f295c913-726b-4215-80c1-62694ab7e0a5",
   "metadata": {},
   "source": [
    "# First step -install MongoDb\n"
   ]
  },
  {
   "cell_type": "markdown",
   "id": "f72c8746-b3cb-43ab-a08e-740038e88e5c",
   "metadata": {},
   "source": [
    "# let's install library"
   ]
  },
  {
   "cell_type": "code",
   "execution_count": 65,
   "id": "1feeea92-f228-47a3-b3b0-bc57165853e5",
   "metadata": {},
   "outputs": [
    {
     "name": "stdout",
     "output_type": "stream",
     "text": [
      "Requirement already satisfied: pymongo in c:\\users\\yubar\\anaconda3\\lib\\site-packages (4.15.1)\n",
      "Requirement already satisfied: dnspython<3.0.0,>=1.16.0 in c:\\users\\yubar\\anaconda3\\lib\\site-packages (from pymongo) (2.8.0)\n"
     ]
    }
   ],
   "source": [
    "!pip3 install pymongo"
   ]
  },
  {
   "cell_type": "code",
   "execution_count": 66,
   "id": "d3328efe-9522-4bd2-b466-2404259d159c",
   "metadata": {},
   "outputs": [],
   "source": [
    "import pymongo\n",
    "from pymongo import MongoClient"
   ]
  },
  {
   "cell_type": "code",
   "execution_count": 67,
   "id": "39dc2536-85a8-436e-b439-4dbfc433a83d",
   "metadata": {},
   "outputs": [
    {
     "data": {
      "text/plain": [
       "'4.15.1'"
      ]
     },
     "execution_count": 67,
     "metadata": {},
     "output_type": "execute_result"
    }
   ],
   "source": [
    "# check library version\n",
    "pymongo.__version__"
   ]
  },
  {
   "cell_type": "code",
   "execution_count": 68,
   "id": "12eb7185-71b2-4f88-861a-1f178c5033d3",
   "metadata": {},
   "outputs": [],
   "source": [
    "# To work with date and time in Python we use the datetime library\n",
    "import datetime"
   ]
  },
  {
   "cell_type": "markdown",
   "id": "b1e0ecd9-6281-4cc0-ac7f-e0f9444411fe",
   "metadata": {},
   "source": [
    "# Make connection"
   ]
  },
  {
   "cell_type": "code",
   "execution_count": 69,
   "id": "89085a62-9c93-4d32-a40e-93bcd2cf21ac",
   "metadata": {},
   "outputs": [],
   "source": [
    "# We define Client Mongo to be able to connect to Mongo Database\n",
    "client = MongoClient(\"localhost\", 27017)"
   ]
  },
  {
   "cell_type": "code",
   "execution_count": 70,
   "id": "9ffafc4b-9256-4a51-aff8-4044eeca837f",
   "metadata": {},
   "outputs": [
    {
     "data": {
      "text/plain": [
       "MongoClient(host=['localhost:27017'], document_class=dict, tz_aware=False, connect=True)"
      ]
     },
     "execution_count": 70,
     "metadata": {},
     "output_type": "execute_result"
    }
   ],
   "source": [
    "client"
   ]
  },
  {
   "cell_type": "markdown",
   "id": "26fa3146-eb66-470c-a4b5-eb4bfb938e61",
   "metadata": {},
   "source": [
    "**Getting a Database:** Once you have a connected an instance of MongoClient, you can access any database managed by the specified MongoDB server. To define which database you want to use, you can use the dot notation."
   ]
  },
  {
   "cell_type": "code",
   "execution_count": 71,
   "id": "034805ef-2a95-4061-8c67-8b8991cdc5fb",
   "metadata": {},
   "outputs": [
    {
     "data": {
      "text/plain": [
       "Database(MongoClient(host=['localhost:27017'], document_class=dict, tz_aware=False, connect=True), 'post_database')"
      ]
     },
     "execution_count": 71,
     "metadata": {},
     "output_type": "execute_result"
    }
   ],
   "source": [
    "db = client.post_database\n",
    "\n",
    "# OR\n",
    "db = client[\"post_database\"]\n",
    "\n",
    "db"
   ]
  },
  {
   "cell_type": "markdown",
   "id": "bd561d80-c4da-48aa-a0a5-aada62b16588",
   "metadata": {},
   "source": [
    "In this cae, **new Collection** is an instance of Collection and represents a physical colleciton of documents in your database. "
   ]
  },
  {
   "cell_type": "code",
   "execution_count": 72,
   "id": "3b2b28e3-8de2-4d65-be76-c3918f7f101d",
   "metadata": {},
   "outputs": [
    {
     "data": {
      "text/plain": [
       "Collection(Database(MongoClient(host=['localhost:27017'], document_class=dict, tz_aware=False, connect=True), 'post_database'), 'posts_collection')"
      ]
     },
     "execution_count": 72,
     "metadata": {},
     "output_type": "execute_result"
    }
   ],
   "source": [
    "# collection is similar to table in relational databases\n",
    "\n",
    "collection = db.posts_collection\n",
    "\n",
    "#OR\n",
    "\n",
    "collection = db['posts_collection']\n",
    "\n",
    "collection"
   ]
  },
  {
   "cell_type": "markdown",
   "id": "02eb7d7d-7b79-41a2-8267-57a689419cbe",
   "metadata": {},
   "source": [
    "**Sample Document** Following example shows the document structure of a blog site, which is simply a comma seperated key value pair."
   ]
  },
  {
   "cell_type": "code",
   "execution_count": 73,
   "id": "930fdd36-8060-4e33-a59b-31dc59cb8da8",
   "metadata": {},
   "outputs": [
    {
     "data": {
      "text/plain": [
       "{'author': 'Mike',\n",
       " 'text': 'My first blog post!',\n",
       " 'tags': ['mongodb', 'python', 'pymongo'],\n",
       " 'date': datetime.datetime(2025, 9, 22, 14, 39, 45, 631828, tzinfo=datetime.timezone.utc)}"
      ]
     },
     "execution_count": 73,
     "metadata": {},
     "output_type": "execute_result"
    }
   ],
   "source": [
    "# Creating a dictionary of data (\"key\": \"value\")\n",
    "\n",
    "post = {\"author\": \"Mike\",\n",
    "       \"text\": \"My first blog post!\",\n",
    "       \"tags\": [\"mongodb\", \"python\", \"pymongo\"],\n",
    "      \"date\": datetime.datetime.now(datetime.UTC)}\n",
    "post"
   ]
  },
  {
   "cell_type": "code",
   "execution_count": null,
   "id": "02b94a9b-63bb-483e-8efb-6c7942871a61",
   "metadata": {},
   "outputs": [],
   "source": []
  },
  {
   "cell_type": "markdown",
   "id": "7d74f5ab-c51e-4d79-a021-0102783681c0",
   "metadata": {},
   "source": [
    "You can add documents into the collection by calling ```.insert_one()``` on it with a document as an argument:"
   ]
  },
  {
   "cell_type": "code",
   "execution_count": 75,
   "id": "9a7c9cef-5d97-426f-b656-605680e45dca",
   "metadata": {},
   "outputs": [
    {
     "ename": "DuplicateKeyError",
     "evalue": "E11000 duplicate key error collection: post_database.posts_collection index: _id_ dup key: { _id: ObjectId('68d15fcbc43ec0f38970b305') }, full error: {'index': 0, 'code': 11000, 'errmsg': \"E11000 duplicate key error collection: post_database.posts_collection index: _id_ dup key: { _id: ObjectId('68d15fcbc43ec0f38970b305') }\", 'keyPattern': {'_id': 1}, 'keyValue': {'_id': ObjectId('68d15fcbc43ec0f38970b305')}}",
     "output_type": "error",
     "traceback": [
      "\u001b[1;31m---------------------------------------------------------------------------\u001b[0m",
      "\u001b[1;31mDuplicateKeyError\u001b[0m                         Traceback (most recent call last)",
      "Cell \u001b[1;32mIn[75], line 3\u001b[0m\n\u001b[0;32m      1\u001b[0m \u001b[38;5;66;03m# Addinng one Document (row of data) to the Collection (table)\u001b[39;00m\n\u001b[1;32m----> 3\u001b[0m collection\u001b[38;5;241m.\u001b[39minsert_one(post)\n",
      "File \u001b[1;32m~\\anaconda3\\Lib\\site-packages\\pymongo\\synchronous\\collection.py:891\u001b[0m, in \u001b[0;36mCollection.insert_one\u001b[1;34m(self, document, bypass_document_validation, session, comment)\u001b[0m\n\u001b[0;32m    887\u001b[0m     document[\u001b[38;5;124m\"\u001b[39m\u001b[38;5;124m_id\u001b[39m\u001b[38;5;124m\"\u001b[39m] \u001b[38;5;241m=\u001b[39m ObjectId()  \u001b[38;5;66;03m# type: ignore[index]\u001b[39;00m\n\u001b[0;32m    889\u001b[0m write_concern \u001b[38;5;241m=\u001b[39m \u001b[38;5;28mself\u001b[39m\u001b[38;5;241m.\u001b[39m_write_concern_for(session)\n\u001b[0;32m    890\u001b[0m \u001b[38;5;28;01mreturn\u001b[39;00m InsertOneResult(\n\u001b[1;32m--> 891\u001b[0m     \u001b[38;5;28mself\u001b[39m\u001b[38;5;241m.\u001b[39m_insert_one(\n\u001b[0;32m    892\u001b[0m         document,\n\u001b[0;32m    893\u001b[0m         ordered\u001b[38;5;241m=\u001b[39m\u001b[38;5;28;01mTrue\u001b[39;00m,\n\u001b[0;32m    894\u001b[0m         write_concern\u001b[38;5;241m=\u001b[39mwrite_concern,\n\u001b[0;32m    895\u001b[0m         op_id\u001b[38;5;241m=\u001b[39m\u001b[38;5;28;01mNone\u001b[39;00m,\n\u001b[0;32m    896\u001b[0m         bypass_doc_val\u001b[38;5;241m=\u001b[39mbypass_document_validation,\n\u001b[0;32m    897\u001b[0m         session\u001b[38;5;241m=\u001b[39msession,\n\u001b[0;32m    898\u001b[0m         comment\u001b[38;5;241m=\u001b[39mcomment,\n\u001b[0;32m    899\u001b[0m     ),\n\u001b[0;32m    900\u001b[0m     write_concern\u001b[38;5;241m.\u001b[39macknowledged,\n\u001b[0;32m    901\u001b[0m )\n",
      "File \u001b[1;32m~\\anaconda3\\Lib\\site-packages\\pymongo\\synchronous\\collection.py:831\u001b[0m, in \u001b[0;36mCollection._insert_one\u001b[1;34m(self, doc, ordered, write_concern, op_id, bypass_doc_val, session, comment)\u001b[0m\n\u001b[0;32m    819\u001b[0m     result \u001b[38;5;241m=\u001b[39m conn\u001b[38;5;241m.\u001b[39mcommand(\n\u001b[0;32m    820\u001b[0m         \u001b[38;5;28mself\u001b[39m\u001b[38;5;241m.\u001b[39m_database\u001b[38;5;241m.\u001b[39mname,\n\u001b[0;32m    821\u001b[0m         command,\n\u001b[1;32m   (...)\u001b[0m\n\u001b[0;32m    826\u001b[0m         retryable_write\u001b[38;5;241m=\u001b[39mretryable_write,\n\u001b[0;32m    827\u001b[0m     )\n\u001b[0;32m    829\u001b[0m     _check_write_command_response(result)\n\u001b[1;32m--> 831\u001b[0m \u001b[38;5;28mself\u001b[39m\u001b[38;5;241m.\u001b[39m_database\u001b[38;5;241m.\u001b[39mclient\u001b[38;5;241m.\u001b[39m_retryable_write(\n\u001b[0;32m    832\u001b[0m     acknowledged, _insert_command, session, operation\u001b[38;5;241m=\u001b[39m_Op\u001b[38;5;241m.\u001b[39mINSERT\n\u001b[0;32m    833\u001b[0m )\n\u001b[0;32m    835\u001b[0m \u001b[38;5;28;01mif\u001b[39;00m \u001b[38;5;129;01mnot\u001b[39;00m \u001b[38;5;28misinstance\u001b[39m(doc, RawBSONDocument):\n\u001b[0;32m    836\u001b[0m     \u001b[38;5;28;01mreturn\u001b[39;00m doc\u001b[38;5;241m.\u001b[39mget(\u001b[38;5;124m\"\u001b[39m\u001b[38;5;124m_id\u001b[39m\u001b[38;5;124m\"\u001b[39m)\n",
      "File \u001b[1;32m~\\anaconda3\\Lib\\site-packages\\pymongo\\synchronous\\mongo_client.py:2082\u001b[0m, in \u001b[0;36mMongoClient._retryable_write\u001b[1;34m(self, retryable, func, session, operation, bulk, operation_id)\u001b[0m\n\u001b[0;32m   2068\u001b[0m \u001b[38;5;250m\u001b[39m\u001b[38;5;124;03m\"\"\"Execute an operation with consecutive retries if possible\u001b[39;00m\n\u001b[0;32m   2069\u001b[0m \n\u001b[0;32m   2070\u001b[0m \u001b[38;5;124;03mReturns func()'s return value on success. On error retries the same\u001b[39;00m\n\u001b[1;32m   (...)\u001b[0m\n\u001b[0;32m   2079\u001b[0m \u001b[38;5;124;03m:param bulk: bulk abstraction to execute operations in bulk, defaults to None\u001b[39;00m\n\u001b[0;32m   2080\u001b[0m \u001b[38;5;124;03m\"\"\"\u001b[39;00m\n\u001b[0;32m   2081\u001b[0m \u001b[38;5;28;01mwith\u001b[39;00m \u001b[38;5;28mself\u001b[39m\u001b[38;5;241m.\u001b[39m_tmp_session(session) \u001b[38;5;28;01mas\u001b[39;00m s:\n\u001b[1;32m-> 2082\u001b[0m     \u001b[38;5;28;01mreturn\u001b[39;00m \u001b[38;5;28mself\u001b[39m\u001b[38;5;241m.\u001b[39m_retry_with_session(retryable, func, s, bulk, operation, operation_id)\n",
      "File \u001b[1;32m~\\anaconda3\\Lib\\site-packages\\pymongo\\synchronous\\mongo_client.py:1968\u001b[0m, in \u001b[0;36mMongoClient._retry_with_session\u001b[1;34m(self, retryable, func, session, bulk, operation, operation_id)\u001b[0m\n\u001b[0;32m   1963\u001b[0m \u001b[38;5;66;03m# Ensure that the options supports retry_writes and there is a valid session not in\u001b[39;00m\n\u001b[0;32m   1964\u001b[0m \u001b[38;5;66;03m# transaction, otherwise, we will not support retry behavior for this txn.\u001b[39;00m\n\u001b[0;32m   1965\u001b[0m retryable \u001b[38;5;241m=\u001b[39m \u001b[38;5;28mbool\u001b[39m(\n\u001b[0;32m   1966\u001b[0m     retryable \u001b[38;5;129;01mand\u001b[39;00m \u001b[38;5;28mself\u001b[39m\u001b[38;5;241m.\u001b[39moptions\u001b[38;5;241m.\u001b[39mretry_writes \u001b[38;5;129;01mand\u001b[39;00m session \u001b[38;5;129;01mand\u001b[39;00m \u001b[38;5;129;01mnot\u001b[39;00m session\u001b[38;5;241m.\u001b[39min_transaction\n\u001b[0;32m   1967\u001b[0m )\n\u001b[1;32m-> 1968\u001b[0m \u001b[38;5;28;01mreturn\u001b[39;00m \u001b[38;5;28mself\u001b[39m\u001b[38;5;241m.\u001b[39m_retry_internal(\n\u001b[0;32m   1969\u001b[0m     func\u001b[38;5;241m=\u001b[39mfunc,\n\u001b[0;32m   1970\u001b[0m     session\u001b[38;5;241m=\u001b[39msession,\n\u001b[0;32m   1971\u001b[0m     bulk\u001b[38;5;241m=\u001b[39mbulk,\n\u001b[0;32m   1972\u001b[0m     operation\u001b[38;5;241m=\u001b[39moperation,\n\u001b[0;32m   1973\u001b[0m     retryable\u001b[38;5;241m=\u001b[39mretryable,\n\u001b[0;32m   1974\u001b[0m     operation_id\u001b[38;5;241m=\u001b[39moperation_id,\n\u001b[0;32m   1975\u001b[0m )\n",
      "File \u001b[1;32m~\\anaconda3\\Lib\\site-packages\\pymongo\\_csot.py:125\u001b[0m, in \u001b[0;36mapply.<locals>.csot_wrapper\u001b[1;34m(self, *args, **kwargs)\u001b[0m\n\u001b[0;32m    123\u001b[0m         \u001b[38;5;28;01mwith\u001b[39;00m _TimeoutContext(timeout):\n\u001b[0;32m    124\u001b[0m             \u001b[38;5;28;01mreturn\u001b[39;00m func(\u001b[38;5;28mself\u001b[39m, \u001b[38;5;241m*\u001b[39margs, \u001b[38;5;241m*\u001b[39m\u001b[38;5;241m*\u001b[39mkwargs)\n\u001b[1;32m--> 125\u001b[0m \u001b[38;5;28;01mreturn\u001b[39;00m func(\u001b[38;5;28mself\u001b[39m, \u001b[38;5;241m*\u001b[39margs, \u001b[38;5;241m*\u001b[39m\u001b[38;5;241m*\u001b[39mkwargs)\n",
      "File \u001b[1;32m~\\anaconda3\\Lib\\site-packages\\pymongo\\synchronous\\mongo_client.py:2014\u001b[0m, in \u001b[0;36mMongoClient._retry_internal\u001b[1;34m(self, func, session, bulk, operation, is_read, address, read_pref, retryable, operation_id)\u001b[0m\n\u001b[0;32m   1977\u001b[0m \u001b[38;5;129m@_csot\u001b[39m\u001b[38;5;241m.\u001b[39mapply\n\u001b[0;32m   1978\u001b[0m \u001b[38;5;28;01mdef\u001b[39;00m\u001b[38;5;250m \u001b[39m\u001b[38;5;21m_retry_internal\u001b[39m(\n\u001b[0;32m   1979\u001b[0m     \u001b[38;5;28mself\u001b[39m,\n\u001b[1;32m   (...)\u001b[0m\n\u001b[0;32m   1988\u001b[0m     operation_id: Optional[\u001b[38;5;28mint\u001b[39m] \u001b[38;5;241m=\u001b[39m \u001b[38;5;28;01mNone\u001b[39;00m,\n\u001b[0;32m   1989\u001b[0m ) \u001b[38;5;241m-\u001b[39m\u001b[38;5;241m>\u001b[39m T:\n\u001b[0;32m   1990\u001b[0m \u001b[38;5;250m    \u001b[39m\u001b[38;5;124;03m\"\"\"Internal retryable helper for all client transactions.\u001b[39;00m\n\u001b[0;32m   1991\u001b[0m \n\u001b[0;32m   1992\u001b[0m \u001b[38;5;124;03m    :param func: Callback function we want to retry\u001b[39;00m\n\u001b[1;32m   (...)\u001b[0m\n\u001b[0;32m   2001\u001b[0m \u001b[38;5;124;03m    :return: Output of the calling func()\u001b[39;00m\n\u001b[0;32m   2002\u001b[0m \u001b[38;5;124;03m    \"\"\"\u001b[39;00m\n\u001b[0;32m   2003\u001b[0m     \u001b[38;5;28;01mreturn\u001b[39;00m _ClientConnectionRetryable(\n\u001b[0;32m   2004\u001b[0m         mongo_client\u001b[38;5;241m=\u001b[39m\u001b[38;5;28mself\u001b[39m,\n\u001b[0;32m   2005\u001b[0m         func\u001b[38;5;241m=\u001b[39mfunc,\n\u001b[0;32m   2006\u001b[0m         bulk\u001b[38;5;241m=\u001b[39mbulk,\n\u001b[0;32m   2007\u001b[0m         operation\u001b[38;5;241m=\u001b[39moperation,\n\u001b[0;32m   2008\u001b[0m         is_read\u001b[38;5;241m=\u001b[39mis_read,\n\u001b[0;32m   2009\u001b[0m         session\u001b[38;5;241m=\u001b[39msession,\n\u001b[0;32m   2010\u001b[0m         read_pref\u001b[38;5;241m=\u001b[39mread_pref,\n\u001b[0;32m   2011\u001b[0m         address\u001b[38;5;241m=\u001b[39maddress,\n\u001b[0;32m   2012\u001b[0m         retryable\u001b[38;5;241m=\u001b[39mretryable,\n\u001b[0;32m   2013\u001b[0m         operation_id\u001b[38;5;241m=\u001b[39moperation_id,\n\u001b[1;32m-> 2014\u001b[0m     )\u001b[38;5;241m.\u001b[39mrun()\n",
      "File \u001b[1;32m~\\anaconda3\\Lib\\site-packages\\pymongo\\synchronous\\mongo_client.py:2765\u001b[0m, in \u001b[0;36m_ClientConnectionRetryable.run\u001b[1;34m(self)\u001b[0m\n\u001b[0;32m   2763\u001b[0m \u001b[38;5;28mself\u001b[39m\u001b[38;5;241m.\u001b[39m_check_last_error(check_csot\u001b[38;5;241m=\u001b[39m\u001b[38;5;28;01mTrue\u001b[39;00m)\n\u001b[0;32m   2764\u001b[0m \u001b[38;5;28;01mtry\u001b[39;00m:\n\u001b[1;32m-> 2765\u001b[0m     \u001b[38;5;28;01mreturn\u001b[39;00m \u001b[38;5;28mself\u001b[39m\u001b[38;5;241m.\u001b[39m_read() \u001b[38;5;28;01mif\u001b[39;00m \u001b[38;5;28mself\u001b[39m\u001b[38;5;241m.\u001b[39m_is_read \u001b[38;5;28;01melse\u001b[39;00m \u001b[38;5;28mself\u001b[39m\u001b[38;5;241m.\u001b[39m_write()\n\u001b[0;32m   2766\u001b[0m \u001b[38;5;28;01mexcept\u001b[39;00m ServerSelectionTimeoutError:\n\u001b[0;32m   2767\u001b[0m     \u001b[38;5;66;03m# The application may think the write was never attempted\u001b[39;00m\n\u001b[0;32m   2768\u001b[0m     \u001b[38;5;66;03m# if we raise ServerSelectionTimeoutError on the retry\u001b[39;00m\n\u001b[0;32m   2769\u001b[0m     \u001b[38;5;66;03m# attempt. Raise the original exception instead.\u001b[39;00m\n\u001b[0;32m   2770\u001b[0m     \u001b[38;5;28mself\u001b[39m\u001b[38;5;241m.\u001b[39m_check_last_error()\n",
      "File \u001b[1;32m~\\anaconda3\\Lib\\site-packages\\pymongo\\synchronous\\mongo_client.py:2897\u001b[0m, in \u001b[0;36m_ClientConnectionRetryable._write\u001b[1;34m(self)\u001b[0m\n\u001b[0;32m   2889\u001b[0m         \u001b[38;5;28;01mif\u001b[39;00m \u001b[38;5;28mself\u001b[39m\u001b[38;5;241m.\u001b[39m_retrying:\n\u001b[0;32m   2890\u001b[0m             _debug_log(\n\u001b[0;32m   2891\u001b[0m                 _COMMAND_LOGGER,\n\u001b[0;32m   2892\u001b[0m                 message\u001b[38;5;241m=\u001b[39m\u001b[38;5;124mf\u001b[39m\u001b[38;5;124m\"\u001b[39m\u001b[38;5;124mRetrying write attempt number \u001b[39m\u001b[38;5;132;01m{\u001b[39;00m\u001b[38;5;28mself\u001b[39m\u001b[38;5;241m.\u001b[39m_attempt_number\u001b[38;5;132;01m}\u001b[39;00m\u001b[38;5;124m\"\u001b[39m,\n\u001b[1;32m   (...)\u001b[0m\n\u001b[0;32m   2895\u001b[0m                 operationId\u001b[38;5;241m=\u001b[39m\u001b[38;5;28mself\u001b[39m\u001b[38;5;241m.\u001b[39m_operation_id,\n\u001b[0;32m   2896\u001b[0m             )\n\u001b[1;32m-> 2897\u001b[0m         \u001b[38;5;28;01mreturn\u001b[39;00m \u001b[38;5;28mself\u001b[39m\u001b[38;5;241m.\u001b[39m_func(\u001b[38;5;28mself\u001b[39m\u001b[38;5;241m.\u001b[39m_session, conn, \u001b[38;5;28mself\u001b[39m\u001b[38;5;241m.\u001b[39m_retryable)  \u001b[38;5;66;03m# type: ignore\u001b[39;00m\n\u001b[0;32m   2898\u001b[0m \u001b[38;5;28;01mexcept\u001b[39;00m PyMongoError \u001b[38;5;28;01mas\u001b[39;00m exc:\n\u001b[0;32m   2899\u001b[0m     \u001b[38;5;28;01mif\u001b[39;00m \u001b[38;5;129;01mnot\u001b[39;00m \u001b[38;5;28mself\u001b[39m\u001b[38;5;241m.\u001b[39m_retryable:\n",
      "File \u001b[1;32m~\\anaconda3\\Lib\\site-packages\\pymongo\\synchronous\\collection.py:829\u001b[0m, in \u001b[0;36mCollection._insert_one.<locals>._insert_command\u001b[1;34m(session, conn, retryable_write)\u001b[0m\n\u001b[0;32m    817\u001b[0m     command[\u001b[38;5;124m\"\u001b[39m\u001b[38;5;124mbypassDocumentValidation\u001b[39m\u001b[38;5;124m\"\u001b[39m] \u001b[38;5;241m=\u001b[39m bypass_doc_val\n\u001b[0;32m    819\u001b[0m result \u001b[38;5;241m=\u001b[39m conn\u001b[38;5;241m.\u001b[39mcommand(\n\u001b[0;32m    820\u001b[0m     \u001b[38;5;28mself\u001b[39m\u001b[38;5;241m.\u001b[39m_database\u001b[38;5;241m.\u001b[39mname,\n\u001b[0;32m    821\u001b[0m     command,\n\u001b[1;32m   (...)\u001b[0m\n\u001b[0;32m    826\u001b[0m     retryable_write\u001b[38;5;241m=\u001b[39mretryable_write,\n\u001b[0;32m    827\u001b[0m )\n\u001b[1;32m--> 829\u001b[0m _check_write_command_response(result)\n",
      "File \u001b[1;32m~\\anaconda3\\Lib\\site-packages\\pymongo\\helpers_shared.py:322\u001b[0m, in \u001b[0;36m_check_write_command_response\u001b[1;34m(result)\u001b[0m\n\u001b[0;32m    320\u001b[0m write_errors \u001b[38;5;241m=\u001b[39m result\u001b[38;5;241m.\u001b[39mget(\u001b[38;5;124m\"\u001b[39m\u001b[38;5;124mwriteErrors\u001b[39m\u001b[38;5;124m\"\u001b[39m)\n\u001b[0;32m    321\u001b[0m \u001b[38;5;28;01mif\u001b[39;00m write_errors:\n\u001b[1;32m--> 322\u001b[0m     _raise_last_write_error(write_errors)\n\u001b[0;32m    324\u001b[0m wce \u001b[38;5;241m=\u001b[39m _get_wce_doc(result)\n\u001b[0;32m    325\u001b[0m \u001b[38;5;28;01mif\u001b[39;00m wce:\n",
      "File \u001b[1;32m~\\anaconda3\\Lib\\site-packages\\pymongo\\helpers_shared.py:292\u001b[0m, in \u001b[0;36m_raise_last_write_error\u001b[1;34m(write_errors)\u001b[0m\n\u001b[0;32m    290\u001b[0m error \u001b[38;5;241m=\u001b[39m write_errors[\u001b[38;5;241m-\u001b[39m\u001b[38;5;241m1\u001b[39m]\n\u001b[0;32m    291\u001b[0m \u001b[38;5;28;01mif\u001b[39;00m error\u001b[38;5;241m.\u001b[39mget(\u001b[38;5;124m\"\u001b[39m\u001b[38;5;124mcode\u001b[39m\u001b[38;5;124m\"\u001b[39m) \u001b[38;5;241m==\u001b[39m \u001b[38;5;241m11000\u001b[39m:\n\u001b[1;32m--> 292\u001b[0m     \u001b[38;5;28;01mraise\u001b[39;00m DuplicateKeyError(error\u001b[38;5;241m.\u001b[39mget(\u001b[38;5;124m\"\u001b[39m\u001b[38;5;124merrmsg\u001b[39m\u001b[38;5;124m\"\u001b[39m), \u001b[38;5;241m11000\u001b[39m, error)\n\u001b[0;32m    293\u001b[0m \u001b[38;5;28;01mraise\u001b[39;00m WriteError(error\u001b[38;5;241m.\u001b[39mget(\u001b[38;5;124m\"\u001b[39m\u001b[38;5;124merrmsg\u001b[39m\u001b[38;5;124m\"\u001b[39m), error\u001b[38;5;241m.\u001b[39mget(\u001b[38;5;124m\"\u001b[39m\u001b[38;5;124mcode\u001b[39m\u001b[38;5;124m\"\u001b[39m), error)\n",
      "\u001b[1;31mDuplicateKeyError\u001b[0m: E11000 duplicate key error collection: post_database.posts_collection index: _id_ dup key: { _id: ObjectId('68d15fcbc43ec0f38970b305') }, full error: {'index': 0, 'code': 11000, 'errmsg': \"E11000 duplicate key error collection: post_database.posts_collection index: _id_ dup key: { _id: ObjectId('68d15fcbc43ec0f38970b305') }\", 'keyPattern': {'_id': 1}, 'keyValue': {'_id': ObjectId('68d15fcbc43ec0f38970b305')}}"
     ]
    }
   ],
   "source": [
    "# Addinng one Document (row of data) to the Collection (table)\n",
    "\n",
    "collection.insert_one(post)"
   ]
  },
  {
   "cell_type": "markdown",
   "id": "ee3a9fe5-1bfc-4acb-8053-c1e2030c06ba",
   "metadata": {},
   "source": [
    "The ```pprint``` in Python provides a capability to \"pretty-print\" arbitrary Python data structures in a more readable, formatted manner compared to the built-in print() function. The name pprint stands for \"pretty print.\""
   ]
  },
  {
   "cell_type": "code",
   "execution_count": 76,
   "id": "1559d2bf-dfcb-4077-b02a-efa90b9a1389",
   "metadata": {},
   "outputs": [
    {
     "name": "stdout",
     "output_type": "stream",
     "text": [
      "{'_id': ObjectId('68d15fcbc43ec0f38970b305'), 'author': 'Mike', 'text': 'My first blog post!', 'tags': ['mongodb', 'python', 'pymongo'], 'date': datetime.datetime(2025, 9, 22, 14, 39, 45, 631000)}\n",
      "---------------------------------------------------------------\n",
      "{'_id': ObjectId('68d15fcbc43ec0f38970b305'),\n",
      " 'author': 'Mike',\n",
      " 'date': datetime.datetime(2025, 9, 22, 14, 39, 45, 631000),\n",
      " 'tags': ['mongodb', 'python', 'pymongo'],\n",
      " 'text': 'My first blog post!'}\n"
     ]
    }
   ],
   "source": [
    "# pprint library \n",
    "\n",
    "import pprint\n",
    "\n",
    "# Lets compare print and pprint\n",
    "\n",
    "print(collection.find_one())\n",
    "\n",
    "print(\"---------------------------------------------------------------\")\n",
    "\n",
    "pprint.pprint(collection.find_one())"
   ]
  },
  {
   "cell_type": "markdown",
   "id": "0770666a-2f41-4806-8d40-aa2379fbb800",
   "metadata": {},
   "source": [
    "To retrieve a single document from a collection that matches a given query (specific criteria), we use ``find_one`` method. \n",
    "If multiple documents match the query, only the first one found (according to its natural order, which reflects the order of documents on the disk) will be returned."
   ]
  },
  {
   "cell_type": "code",
   "execution_count": 27,
   "id": "1c91c845-d73b-4d41-940e-8b384b20de46",
   "metadata": {},
   "outputs": [
    {
     "name": "stdout",
     "output_type": "stream",
     "text": [
      "{'_id': ObjectId('68d15369c43ec0f38970b2fc'),\n",
      " 'author': 'Mike',\n",
      " 'date': datetime.datetime(2025, 9, 22, 13, 45, 32, 519000),\n",
      " 'tags': ['mongodb', 'python', 'pymongo'],\n",
      " 'text': 'My first blog post!'}\n",
      "---------------------------------------------------------------\n",
      "{'_id': ObjectId('68d15369c43ec0f38970b2fc'),\n",
      " 'author': 'Mike',\n",
      " 'date': datetime.datetime(2025, 9, 22, 13, 45, 32, 519000),\n",
      " 'tags': ['mongodb', 'python', 'pymongo'],\n",
      " 'text': 'My first blog post!'}\n",
      "---------------------------------------------------------------\n",
      "None\n"
     ]
    }
   ],
   "source": [
    "# to show the first document in the collection\n",
    "pprint.pprint(collection.find_one({}))\n",
    "\n",
    "print(\"---------------------------------------------------------------\")\n",
    "\n",
    "# to show the first document in the collection that has author as a key and Mike as a value\n",
    "\n",
    "pprint.pprint(collection.find_one({\"author\": \"Mike\"}))\n",
    "\n",
    "print(\"---------------------------------------------------------------\")\n",
    "\n",
    "pprint.pprint(collection.find_one({\"author\": \"ABC\"}))"
   ]
  },
  {
   "cell_type": "markdown",
   "id": "ba1a8364-6672-4659-bd51-e226cf88c706",
   "metadata": {},
   "source": [
    "## Inserting Many Documents"
   ]
  },
  {
   "cell_type": "markdown",
   "id": "da2cf37b-b70a-4ef8-8616-83bb7b25df76",
   "metadata": {},
   "source": [
    "```insert_many()``` This method is used to insert multiple entries in a collection or the database in MongoDB. the parameter of this method is a list that contains dictionaries of the data that we want to insert in the collection.\n",
    "This is faster and more straightforward than calling ```.insert_one()``` multiple times. The call to ```.insert_many()``` takes an iterable documents and insert them into the collection in your databse."
   ]
  },
  {
   "cell_type": "code",
   "execution_count": 43,
   "id": "68b03012-67a2-46ca-aa29-0a27a1cf5794",
   "metadata": {},
   "outputs": [],
   "source": [
    "post_2 = {\"author\": \"Yuba\",\n",
    "       \"text\": \"I am your teacher!\",\n",
    "       \"tags\": [\"analytics\", \"python\", \"bigdata\"],\n",
    "       \"date\": datetime.datetime.now(datetime.UTC)}\n",
    "\n",
    "post_3 = {\"author\": \"David\",\n",
    "       \"text\": \"The best Uni!\",\n",
    "       \"tags\": [\"test1\", \"test2\", \"test3\"],\n",
    "       \"date\": datetime.datetime.now(datetime.UTC)}"
   ]
  },
  {
   "cell_type": "code",
   "execution_count": 44,
   "id": "e097241d-f384-4cd3-8e05-90733353ba2f",
   "metadata": {},
   "outputs": [],
   "source": [
    "more_posts = collection.insert_many([post_2, post_3])"
   ]
  },
  {
   "cell_type": "markdown",
   "id": "c09d8234-62dd-47b0-a4e8-d98ed904eaa0",
   "metadata": {},
   "source": [
    "```.inserted_ids``` provides a way to quickly retrieve the IDs of the documents you've just added, especially useful when the database automatically assigns these IDs (using ObjectId)."
   ]
  },
  {
   "cell_type": "code",
   "execution_count": 45,
   "id": "5ecd509a-2377-4635-8509-4a96cc043a21",
   "metadata": {},
   "outputs": [
    {
     "data": {
      "text/plain": [
       "[ObjectId('68d15ad2c43ec0f38970b301'), ObjectId('68d15ad2c43ec0f38970b302')]"
      ]
     },
     "execution_count": 45,
     "metadata": {},
     "output_type": "execute_result"
    }
   ],
   "source": [
    "more_posts.inserted_ids"
   ]
  },
  {
   "cell_type": "markdown",
   "id": "a8cbfd77-34f7-4893-a2db-61a93df940df",
   "metadata": {},
   "source": [
    "This code iterates over the IDs of the recently inserted documents in the collection (obtained from `new_result.inserted_ids`). For each ID, it fetches and pretty-prints the corresponding document from the collection using the `find_one` method."
   ]
  },
  {
   "cell_type": "code",
   "execution_count": 46,
   "id": "ca2fa958-ca60-4992-b65e-8c9e566cd33e",
   "metadata": {},
   "outputs": [
    {
     "name": "stdout",
     "output_type": "stream",
     "text": [
      "{'_id': ObjectId('68d15ad2c43ec0f38970b301'),\n",
      " 'author': 'Yuba',\n",
      " 'date': datetime.datetime(2025, 9, 22, 14, 18, 56, 649000),\n",
      " 'tags': ['analytics', 'python', 'bigdata'],\n",
      " 'text': 'I am your teacher!'}\n",
      "{'_id': ObjectId('68d15ad2c43ec0f38970b302'),\n",
      " 'author': 'David',\n",
      " 'date': datetime.datetime(2025, 9, 22, 14, 18, 56, 649000),\n",
      " 'tags': ['test1', 'test2', 'test3'],\n",
      " 'text': 'The best Uni!'}\n"
     ]
    }
   ],
   "source": [
    "for i in more_posts.inserted_ids:\n",
    "    pprint.pprint(collection.find_one({\"_id\": i}))"
   ]
  },
  {
   "cell_type": "code",
   "execution_count": 47,
   "id": "fd1ba3aa-8513-44a2-a665-1b538c8ee155",
   "metadata": {},
   "outputs": [
    {
     "name": "stdout",
     "output_type": "stream",
     "text": [
      "<pymongo.synchronous.cursor.Cursor object at 0x000001CE0EFA0190>\n",
      "---------------------------------------------------------------\n",
      "{'_id': ObjectId('68d15369c43ec0f38970b2fc'),\n",
      " 'author': 'Mike',\n",
      " 'date': datetime.datetime(2025, 9, 22, 13, 45, 32, 519000),\n",
      " 'tags': ['mongodb', 'python', 'pymongo'],\n",
      " 'text': 'My first blog post!'}\n",
      "---------------------------------------------------------------\n",
      "{'_id': ObjectId('68d15369c43ec0f38970b2fc'),\n",
      " 'author': 'Mike',\n",
      " 'date': datetime.datetime(2025, 9, 22, 13, 45, 32, 519000),\n",
      " 'tags': ['mongodb', 'python', 'pymongo'],\n",
      " 'text': 'My first blog post!'}\n",
      "---------------------------------------------------------------\n",
      "{'_id': ObjectId('68d15ad2c43ec0f38970b301'),\n",
      " 'author': 'Yuba',\n",
      " 'date': datetime.datetime(2025, 9, 22, 14, 18, 56, 649000),\n",
      " 'tags': ['analytics', 'python', 'bigdata'],\n",
      " 'text': 'I am your teacher!'}\n"
     ]
    }
   ],
   "source": [
    "pprint.pprint(collection.find())\n",
    "print(\"---------------------------------------------------------------\")\n",
    "\n",
    "# to show the first document in the collection\n",
    "pprint.pprint(collection.find_one({}))\n",
    "print(\"---------------------------------------------------------------\")\n",
    "\n",
    "# to show the first document in the collection that has author as a key and Mike as a value\n",
    "\n",
    "pprint.pprint(collection.find_one({\"author\": \"Mike\"}))\n",
    "print(\"---------------------------------------------------------------\")\n",
    "\n",
    "pprint.pprint(collection.find_one({\"author\": \"Yuba\"}))"
   ]
  },
  {
   "cell_type": "code",
   "execution_count": 48,
   "id": "c8cf3fec-0a90-46d5-88ac-5d01b422cd5c",
   "metadata": {},
   "outputs": [
    {
     "name": "stdout",
     "output_type": "stream",
     "text": [
      "{'_id': ObjectId('68d15369c43ec0f38970b2fc'),\n",
      " 'author': 'Mike',\n",
      " 'date': datetime.datetime(2025, 9, 22, 13, 45, 32, 519000),\n",
      " 'tags': ['mongodb', 'python', 'pymongo'],\n",
      " 'text': 'My first blog post!'}\n",
      "{'_id': ObjectId('68d159ffc43ec0f38970b2fd'),\n",
      " 'author': 'Atie',\n",
      " 'date': datetime.datetime(2025, 9, 22, 14, 14, 27, 945000),\n",
      " 'tags': ['analytics', 'python', 'bigdata'],\n",
      " 'text': 'I am your teacher!'}\n",
      "{'_id': ObjectId('68d159ffc43ec0f38970b2fe'),\n",
      " 'author': 'David',\n",
      " 'date': datetime.datetime(2025, 9, 22, 14, 14, 27, 945000),\n",
      " 'tags': ['test1', 'test2', 'test3'],\n",
      " 'text': 'The best Uni!'}\n",
      "{'_id': ObjectId('68d15a67c43ec0f38970b2ff'),\n",
      " 'author': 'Atie',\n",
      " 'date': datetime.datetime(2025, 9, 22, 14, 17, 8, 970000),\n",
      " 'tags': ['analytics', 'python', 'bigdata'],\n",
      " 'text': 'I am your teacher!'}\n",
      "{'_id': ObjectId('68d15a67c43ec0f38970b300'),\n",
      " 'author': 'David',\n",
      " 'date': datetime.datetime(2025, 9, 22, 14, 17, 8, 970000),\n",
      " 'tags': ['test1', 'test2', 'test3'],\n",
      " 'text': 'The best Uni!'}\n",
      "{'_id': ObjectId('68d15ad2c43ec0f38970b301'),\n",
      " 'author': 'Yuba',\n",
      " 'date': datetime.datetime(2025, 9, 22, 14, 18, 56, 649000),\n",
      " 'tags': ['analytics', 'python', 'bigdata'],\n",
      " 'text': 'I am your teacher!'}\n",
      "{'_id': ObjectId('68d15ad2c43ec0f38970b302'),\n",
      " 'author': 'David',\n",
      " 'date': datetime.datetime(2025, 9, 22, 14, 18, 56, 649000),\n",
      " 'tags': ['test1', 'test2', 'test3'],\n",
      " 'text': 'The best Uni!'}\n"
     ]
    }
   ],
   "source": [
    "for r in collection.find({}):\n",
    "    pprint.pprint(r)"
   ]
  },
  {
   "cell_type": "code",
   "execution_count": 50,
   "id": "20ec3e38-fa27-4bbc-8933-752cbed62e87",
   "metadata": {},
   "outputs": [],
   "source": [
    "query_result = collection.find({\"author\": \"Mike\"})"
   ]
  },
  {
   "cell_type": "code",
   "execution_count": 51,
   "id": "9d359b60-a469-4551-aef9-5a1ee5e1ae82",
   "metadata": {},
   "outputs": [
    {
     "name": "stdout",
     "output_type": "stream",
     "text": [
      "{'_id': ObjectId('68d15369c43ec0f38970b2fc'),\n",
      " 'author': 'Mike',\n",
      " 'date': datetime.datetime(2025, 9, 22, 13, 45, 32, 519000),\n",
      " 'tags': ['mongodb', 'python', 'pymongo'],\n",
      " 'text': 'My first blog post!'}\n"
     ]
    }
   ],
   "source": [
    "pprint.pprint(query_result[0])"
   ]
  },
  {
   "cell_type": "code",
   "execution_count": 52,
   "id": "52db2d9f-728b-4bd5-afa6-52e8a45234e6",
   "metadata": {},
   "outputs": [
    {
     "name": "stdout",
     "output_type": "stream",
     "text": [
      "{'_id': ObjectId('68d15369c43ec0f38970b2fc'),\n",
      " 'author': 'Mike',\n",
      " 'date': datetime.datetime(2025, 9, 22, 13, 45, 32, 519000),\n",
      " 'tags': ['mongodb', 'python', 'pymongo'],\n",
      " 'text': 'My first blog post!'}\n"
     ]
    }
   ],
   "source": [
    "for r in query_result:\n",
    "    pprint.pprint(r)"
   ]
  },
  {
   "cell_type": "markdown",
   "id": "bb6a6d69-e05d-4382-b99d-9877415f41f0",
   "metadata": {},
   "source": [
    "### Update"
   ]
  },
  {
   "cell_type": "code",
   "execution_count": 53,
   "id": "70cf06dd-38e6-405d-a0f4-b20cb2b659ea",
   "metadata": {},
   "outputs": [],
   "source": [
    "post_4 = {\"author\": \"Mike\",\n",
    "       \"text\": \"hahahahaha!\",\n",
    "       \"tags\": [\"analytics\", \"python\", \"bigdata\"],\n",
    "       \"date\": datetime.datetime.now(datetime.UTC)}"
   ]
  },
  {
   "cell_type": "code",
   "execution_count": 54,
   "id": "024d2ae7-da1a-43ad-ac3c-fb58386fc02c",
   "metadata": {},
   "outputs": [],
   "source": [
    "post_5 = {\"author\": \"David\",\n",
    "       \"text\": \"hahaha jsshs sbgs sjshaha!\",\n",
    "       \"tags\": [\"analytics\", \"python\", \"bigdata\"],\n",
    "       \"date\": datetime.datetime.now(datetime.UTC)}"
   ]
  },
  {
   "cell_type": "code",
   "execution_count": 55,
   "id": "0eba0fec-6ce9-472f-b7da-eefa7951b82f",
   "metadata": {},
   "outputs": [
    {
     "data": {
      "text/plain": [
       "InsertOneResult(ObjectId('68d15dd0c43ec0f38970b303'), acknowledged=True)"
      ]
     },
     "execution_count": 55,
     "metadata": {},
     "output_type": "execute_result"
    }
   ],
   "source": [
    "#collection.insert_one(post_4)\n",
    "collection.insert_one(post_5)"
   ]
  },
  {
   "cell_type": "code",
   "execution_count": 56,
   "id": "627ed9d4-f4b4-4a38-931e-b760117e3552",
   "metadata": {},
   "outputs": [
    {
     "data": {
      "text/plain": [
       "UpdateResult({'n': 1, 'nModified': 1, 'ok': 1.0, 'updatedExisting': True}, acknowledged=True)"
      ]
     },
     "execution_count": 56,
     "metadata": {},
     "output_type": "execute_result"
    }
   ],
   "source": [
    "collection.update_one({\"author\": \"Mike\"}, {\"$set\": {\"author\": \"Jack\"}})"
   ]
  },
  {
   "cell_type": "code",
   "execution_count": 57,
   "id": "9243075e-a67a-408b-91f2-c75f53cbee47",
   "metadata": {},
   "outputs": [
    {
     "name": "stdout",
     "output_type": "stream",
     "text": [
      "{'_id': ObjectId('68d15369c43ec0f38970b2fc'),\n",
      " 'author': 'Jack',\n",
      " 'date': datetime.datetime(2025, 9, 22, 13, 45, 32, 519000),\n",
      " 'tags': ['mongodb', 'python', 'pymongo'],\n",
      " 'text': 'My first blog post!'}\n",
      "{'_id': ObjectId('68d159ffc43ec0f38970b2fe'),\n",
      " 'author': 'David',\n",
      " 'date': datetime.datetime(2025, 9, 22, 14, 14, 27, 945000),\n",
      " 'tags': ['test1', 'test2', 'test3'],\n",
      " 'text': 'The best Uni!'}\n",
      "{'_id': ObjectId('68d15a67c43ec0f38970b300'),\n",
      " 'author': 'David',\n",
      " 'date': datetime.datetime(2025, 9, 22, 14, 17, 8, 970000),\n",
      " 'tags': ['test1', 'test2', 'test3'],\n",
      " 'text': 'The best Uni!'}\n",
      "{'_id': ObjectId('68d15ad2c43ec0f38970b301'),\n",
      " 'author': 'Yuba',\n",
      " 'date': datetime.datetime(2025, 9, 22, 14, 18, 56, 649000),\n",
      " 'tags': ['analytics', 'python', 'bigdata'],\n",
      " 'text': 'I am your teacher!'}\n",
      "{'_id': ObjectId('68d15ad2c43ec0f38970b302'),\n",
      " 'author': 'David',\n",
      " 'date': datetime.datetime(2025, 9, 22, 14, 18, 56, 649000),\n",
      " 'tags': ['test1', 'test2', 'test3'],\n",
      " 'text': 'The best Uni!'}\n",
      "{'_id': ObjectId('68d15dd0c43ec0f38970b303'),\n",
      " 'author': 'David',\n",
      " 'date': datetime.datetime(2025, 9, 22, 14, 31, 26, 878000),\n",
      " 'tags': ['analytics', 'python', 'bigdata'],\n",
      " 'text': 'hahaha jsshs sbgs sjshaha!'}\n"
     ]
    }
   ],
   "source": [
    "for r in collection.find({}):\n",
    "    pprint.pprint(r)"
   ]
  },
  {
   "cell_type": "code",
   "execution_count": 58,
   "id": "173d96dd-33d6-4725-89b7-af470568acbe",
   "metadata": {},
   "outputs": [
    {
     "data": {
      "text/plain": [
       "UpdateResult({'n': 4, 'nModified': 4, 'ok': 1.0, 'updatedExisting': True}, acknowledged=True)"
      ]
     },
     "execution_count": 58,
     "metadata": {},
     "output_type": "execute_result"
    }
   ],
   "source": [
    "collection.update_many({\"author\": \"David\"}, {\"$set\": {\"author\": \"Jack\"}})"
   ]
  },
  {
   "cell_type": "code",
   "execution_count": 59,
   "id": "d33cd1ff-d551-425e-bbab-d512a3eeca50",
   "metadata": {},
   "outputs": [
    {
     "name": "stdout",
     "output_type": "stream",
     "text": [
      "{'_id': ObjectId('68d15369c43ec0f38970b2fc'),\n",
      " 'author': 'Jack',\n",
      " 'date': datetime.datetime(2025, 9, 22, 13, 45, 32, 519000),\n",
      " 'tags': ['mongodb', 'python', 'pymongo'],\n",
      " 'text': 'My first blog post!'}\n",
      "{'_id': ObjectId('68d159ffc43ec0f38970b2fe'),\n",
      " 'author': 'Jack',\n",
      " 'date': datetime.datetime(2025, 9, 22, 14, 14, 27, 945000),\n",
      " 'tags': ['test1', 'test2', 'test3'],\n",
      " 'text': 'The best Uni!'}\n",
      "{'_id': ObjectId('68d15a67c43ec0f38970b300'),\n",
      " 'author': 'Jack',\n",
      " 'date': datetime.datetime(2025, 9, 22, 14, 17, 8, 970000),\n",
      " 'tags': ['test1', 'test2', 'test3'],\n",
      " 'text': 'The best Uni!'}\n",
      "{'_id': ObjectId('68d15ad2c43ec0f38970b301'),\n",
      " 'author': 'Yuba',\n",
      " 'date': datetime.datetime(2025, 9, 22, 14, 18, 56, 649000),\n",
      " 'tags': ['analytics', 'python', 'bigdata'],\n",
      " 'text': 'I am your teacher!'}\n",
      "{'_id': ObjectId('68d15ad2c43ec0f38970b302'),\n",
      " 'author': 'Jack',\n",
      " 'date': datetime.datetime(2025, 9, 22, 14, 18, 56, 649000),\n",
      " 'tags': ['test1', 'test2', 'test3'],\n",
      " 'text': 'The best Uni!'}\n",
      "{'_id': ObjectId('68d15dd0c43ec0f38970b303'),\n",
      " 'author': 'Jack',\n",
      " 'date': datetime.datetime(2025, 9, 22, 14, 31, 26, 878000),\n",
      " 'tags': ['analytics', 'python', 'bigdata'],\n",
      " 'text': 'hahaha jsshs sbgs sjshaha!'}\n"
     ]
    }
   ],
   "source": [
    "for r in collection.find({}):\n",
    "    pprint.pprint(r)"
   ]
  },
  {
   "cell_type": "markdown",
   "id": "f68a3725-86c1-42cc-b75b-80cfc0c93e57",
   "metadata": {},
   "source": [
    "### Delete"
   ]
  },
  {
   "cell_type": "code",
   "execution_count": 60,
   "id": "5c21db13-633e-4201-9f3a-bdbc13b9ef12",
   "metadata": {},
   "outputs": [
    {
     "data": {
      "text/plain": [
       "DeleteResult({'n': 0, 'ok': 1.0}, acknowledged=True)"
      ]
     },
     "execution_count": 60,
     "metadata": {},
     "output_type": "execute_result"
    }
   ],
   "source": [
    "collection.delete_one({\"author\": \"Mike\"})"
   ]
  },
  {
   "cell_type": "code",
   "execution_count": 61,
   "id": "56749415-cc5d-4cb2-9b14-680f3055c852",
   "metadata": {},
   "outputs": [
    {
     "name": "stdout",
     "output_type": "stream",
     "text": [
      "{'_id': ObjectId('68d15369c43ec0f38970b2fc'),\n",
      " 'author': 'Jack',\n",
      " 'date': datetime.datetime(2025, 9, 22, 13, 45, 32, 519000),\n",
      " 'tags': ['mongodb', 'python', 'pymongo'],\n",
      " 'text': 'My first blog post!'}\n",
      "{'_id': ObjectId('68d159ffc43ec0f38970b2fe'),\n",
      " 'author': 'Jack',\n",
      " 'date': datetime.datetime(2025, 9, 22, 14, 14, 27, 945000),\n",
      " 'tags': ['test1', 'test2', 'test3'],\n",
      " 'text': 'The best Uni!'}\n",
      "{'_id': ObjectId('68d15a67c43ec0f38970b300'),\n",
      " 'author': 'Jack',\n",
      " 'date': datetime.datetime(2025, 9, 22, 14, 17, 8, 970000),\n",
      " 'tags': ['test1', 'test2', 'test3'],\n",
      " 'text': 'The best Uni!'}\n",
      "{'_id': ObjectId('68d15ad2c43ec0f38970b301'),\n",
      " 'author': 'Yuba',\n",
      " 'date': datetime.datetime(2025, 9, 22, 14, 18, 56, 649000),\n",
      " 'tags': ['analytics', 'python', 'bigdata'],\n",
      " 'text': 'I am your teacher!'}\n",
      "{'_id': ObjectId('68d15ad2c43ec0f38970b302'),\n",
      " 'author': 'Jack',\n",
      " 'date': datetime.datetime(2025, 9, 22, 14, 18, 56, 649000),\n",
      " 'tags': ['test1', 'test2', 'test3'],\n",
      " 'text': 'The best Uni!'}\n",
      "{'_id': ObjectId('68d15dd0c43ec0f38970b303'),\n",
      " 'author': 'Jack',\n",
      " 'date': datetime.datetime(2025, 9, 22, 14, 31, 26, 878000),\n",
      " 'tags': ['analytics', 'python', 'bigdata'],\n",
      " 'text': 'hahaha jsshs sbgs sjshaha!'}\n"
     ]
    }
   ],
   "source": [
    "for r in collection.find({}):\n",
    "    pprint.pprint(r)"
   ]
  },
  {
   "cell_type": "code",
   "execution_count": 62,
   "id": "44ab5e75-d006-4a93-9519-0c475f91362f",
   "metadata": {},
   "outputs": [
    {
     "data": {
      "text/plain": [
       "DeleteResult({'n': 5, 'ok': 1.0}, acknowledged=True)"
      ]
     },
     "execution_count": 62,
     "metadata": {},
     "output_type": "execute_result"
    }
   ],
   "source": [
    "collection.delete_many({\"author\": \"Jack\"})"
   ]
  },
  {
   "cell_type": "code",
   "execution_count": 63,
   "id": "60b1f376-feed-459d-bb7a-d5ef4d4565c4",
   "metadata": {},
   "outputs": [
    {
     "name": "stdout",
     "output_type": "stream",
     "text": [
      "{'_id': ObjectId('68d15ad2c43ec0f38970b301'),\n",
      " 'author': 'Yuba',\n",
      " 'date': datetime.datetime(2025, 9, 22, 14, 18, 56, 649000),\n",
      " 'tags': ['analytics', 'python', 'bigdata'],\n",
      " 'text': 'I am your teacher!'}\n"
     ]
    }
   ],
   "source": [
    "for r in collection.find({}):\n",
    "    pprint.pprint(r)"
   ]
  },
  {
   "cell_type": "code",
   "execution_count": 64,
   "id": "2e069424-d307-46de-b49d-36b6bcdc52d1",
   "metadata": {},
   "outputs": [],
   "source": [
    "# to delete a database you can use client.drop_database('database_name')\n",
    "\n",
    "client.drop_database('post_database')"
   ]
  },
  {
   "cell_type": "markdown",
   "id": "6ca846ff-b982-446b-9531-c0b9e1f5c97b",
   "metadata": {},
   "source": [
    "# This is end of Lab 02"
   ]
  }
 ],
 "metadata": {
  "kernelspec": {
   "display_name": "Python [conda env:base] *",
   "language": "python",
   "name": "conda-base-py"
  },
  "language_info": {
   "codemirror_mode": {
    "name": "ipython",
    "version": 3
   },
   "file_extension": ".py",
   "mimetype": "text/x-python",
   "name": "python",
   "nbconvert_exporter": "python",
   "pygments_lexer": "ipython3",
   "version": "3.13.5"
  }
 },
 "nbformat": 4,
 "nbformat_minor": 5
}
