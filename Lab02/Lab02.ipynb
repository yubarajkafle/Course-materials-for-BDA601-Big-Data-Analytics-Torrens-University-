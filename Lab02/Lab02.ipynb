{
 "cells": [
  {
   "cell_type": "markdown",
   "id": "36345019-992f-4ff2-b9d5-de47e964d286",
   "metadata": {},
   "source": [
    "# First step -install MongoDb\n"
   ]
  },
  {
   "cell_type": "markdown",
   "id": "f72c8746-b3cb-43ab-a08e-740038e88e5c",
   "metadata": {},
   "source": [
    "# let's install library"
   ]
  },
  {
   "cell_type": "code",
   "execution_count": 1,
   "id": "077c8713-7b65-46d2-99b9-b0f72a42fd73",
   "metadata": {},
   "outputs": [
    {
     "name": "stdout",
     "output_type": "stream",
     "text": [
      "Requirement already satisfied: pymongo in c:\\users\\yubar\\anaconda3\\lib\\site-packages (4.15.1)\n",
      "Requirement already satisfied: dnspython<3.0.0,>=1.16.0 in c:\\users\\yubar\\anaconda3\\lib\\site-packages (from pymongo) (2.8.0)\n"
     ]
    }
   ],
   "source": [
    "!pip3 install pymongo"
   ]
  },
  {
   "cell_type": "code",
   "execution_count": 2,
   "id": "d3328efe-9522-4bd2-b466-2404259d159c",
   "metadata": {},
   "outputs": [],
   "source": [
    "import pymongo\n",
    "from pymongo import MongoClient"
   ]
  },
  {
   "cell_type": "code",
   "execution_count": 4,
   "id": "39dc2536-85a8-436e-b439-4dbfc433a83d",
   "metadata": {},
   "outputs": [
    {
     "data": {
      "text/plain": [
       "'4.15.1'"
      ]
     },
     "execution_count": 4,
     "metadata": {},
     "output_type": "execute_result"
    }
   ],
   "source": [
    "# check library version\n",
    "pymongo.__version__"
   ]
  },
  {
   "cell_type": "code",
   "execution_count": 7,
   "id": "12eb7185-71b2-4f88-861a-1f178c5033d3",
   "metadata": {},
   "outputs": [],
   "source": [
    "# To work with date and time in Python we use the datetime library\n",
    "import datetime"
   ]
  },
  {
   "cell_type": "markdown",
   "id": "0b115b94-b385-436c-b4b5-86ab371f2bf7",
   "metadata": {},
   "source": [
    "# Make connection"
   ]
  },
  {
   "cell_type": "code",
   "execution_count": 18,
   "id": "89085a62-9c93-4d32-a40e-93bcd2cf21ac",
   "metadata": {},
   "outputs": [],
   "source": [
    "# We define Client Mongo to be able to connect to Mongo Database\n",
    "client = MongoClient(\"localhost\", 27017)"
   ]
  },
  {
   "cell_type": "code",
   "execution_count": 19,
   "id": "9ffafc4b-9256-4a51-aff8-4044eeca837f",
   "metadata": {},
   "outputs": [
    {
     "data": {
      "text/plain": [
       "MongoClient(host=['localhost:27017'], document_class=dict, tz_aware=False, connect=True)"
      ]
     },
     "execution_count": 19,
     "metadata": {},
     "output_type": "execute_result"
    }
   ],
   "source": [
    "client"
   ]
  },
  {
   "cell_type": "markdown",
   "id": "f1c08e27-0d29-4b93-8948-f32075fa62d2",
   "metadata": {},
   "source": [
    "**Getting a Database:** Once you have a connected an instance of MongoClient, you can access any database managed by the specified MongoDB server. To define which database you want to use, you can use the dot notation."
   ]
  },
  {
   "cell_type": "code",
   "execution_count": 20,
   "id": "034805ef-2a95-4061-8c67-8b8991cdc5fb",
   "metadata": {},
   "outputs": [
    {
     "data": {
      "text/plain": [
       "Database(MongoClient(host=['localhost:27017'], document_class=dict, tz_aware=False, connect=True), 'post_database')"
      ]
     },
     "execution_count": 20,
     "metadata": {},
     "output_type": "execute_result"
    }
   ],
   "source": [
    "db = client.post_database\n",
    "\n",
    "# OR\n",
    "db = client[\"post_database\"]\n",
    "\n",
    "db"
   ]
  },
  {
   "cell_type": "code",
   "execution_count": null,
   "id": "d5a97dd3-b3a6-4432-964a-22a9698a3779",
   "metadata": {},
   "outputs": [],
   "source": [
    "In this case, **new Collection** is an instance of Collection and represents a physical colleciton of documents in your database. "
   ]
  },
  {
   "cell_type": "code",
   "execution_count": 21,
   "id": "3b2b28e3-8de2-4d65-be76-c3918f7f101d",
   "metadata": {},
   "outputs": [
    {
     "data": {
      "text/plain": [
       "Collection(Database(MongoClient(host=['localhost:27017'], document_class=dict, tz_aware=False, connect=True), 'post_database'), 'posts_collection')"
      ]
     },
     "execution_count": 21,
     "metadata": {},
     "output_type": "execute_result"
    }
   ],
   "source": [
    "# collection is similar to table in relational databases\n",
    "\n",
    "collection = db.posts_collection\n",
    "\n",
    "#OR\n",
    "\n",
    "collection = db['posts_collection']\n",
    "\n",
    "collection"
   ]
  },
  {
   "cell_type": "code",
   "execution_count": null,
   "id": "660fa64e-2267-4bb3-a224-a502c3d8b4ce",
   "metadata": {},
   "outputs": [],
   "source": [
    "**Sample Document** Following example shows the document structure of a blog site, which is simply a comma seperated key value pair."
   ]
  },
  {
   "cell_type": "code",
   "execution_count": 22,
   "id": "930fdd36-8060-4e33-a59b-31dc59cb8da8",
   "metadata": {},
   "outputs": [
    {
     "data": {
      "text/plain": [
       "{'author': 'Mike',\n",
       " 'text': 'My first blog post!',\n",
       " 'tags': ['mongodb', 'python', 'pymongo'],\n",
       " 'date': datetime.datetime(2025, 9, 24, 11, 21, 14, 734029, tzinfo=datetime.timezone.utc)}"
      ]
     },
     "execution_count": 22,
     "metadata": {},
     "output_type": "execute_result"
    }
   ],
   "source": [
    "# Creating a dictionary of data (\"key\": \"value\")\n",
    "\n",
    "post = {\"author\": \"Mike\",\n",
    "       \"text\": \"My first blog post!\",\n",
    "       \"tags\": [\"mongodb\", \"python\", \"pymongo\"],\n",
    "      \"date\": datetime.datetime.now(datetime.UTC)}\n",
    "post"
   ]
  },
  {
   "cell_type": "code",
   "execution_count": null,
   "id": "02b94a9b-63bb-483e-8efb-6c7942871a61",
   "metadata": {},
   "outputs": [],
   "source": []
  },
  {
   "cell_type": "markdown",
   "id": "7d74f5ab-c51e-4d79-a021-0102783681c0",
   "metadata": {},
   "source": [
    "You can add documents into the collection by calling ```.insert_one()``` on it with a document as an argument:"
   ]
  },
  {
   "cell_type": "code",
   "execution_count": 23,
   "id": "9a7c9cef-5d97-426f-b656-605680e45dca",
   "metadata": {},
   "outputs": [
    {
     "data": {
      "text/plain": [
       "InsertOneResult(ObjectId('68d3d4646d66beb99a764b2a'), acknowledged=True)"
      ]
     },
     "execution_count": 23,
     "metadata": {},
     "output_type": "execute_result"
    }
   ],
   "source": [
    "# Addinng one Document (row of data) to the Collection (table)\n",
    "\n",
    "collection.insert_one(post)"
   ]
  },
  {
   "cell_type": "markdown",
   "id": "ee3a9fe5-1bfc-4acb-8053-c1e2030c06ba",
   "metadata": {},
   "source": [
    "The ```pprint``` in Python provides a capability to \"pretty-print\" arbitrary Python data structures in a more readable, formatted manner compared to the built-in print() function. The name pprint stands for \"pretty print.\""
   ]
  },
  {
   "cell_type": "code",
   "execution_count": 24,
   "id": "1559d2bf-dfcb-4077-b02a-efa90b9a1389",
   "metadata": {},
   "outputs": [
    {
     "name": "stdout",
     "output_type": "stream",
     "text": [
      "{'_id': ObjectId('68d3d4646d66beb99a764b2a'), 'author': 'Mike', 'text': 'My first blog post!', 'tags': ['mongodb', 'python', 'pymongo'], 'date': datetime.datetime(2025, 9, 24, 11, 21, 14, 734000)}\n",
      "---------------------------------------------------------------\n",
      "{'_id': ObjectId('68d3d4646d66beb99a764b2a'),\n",
      " 'author': 'Mike',\n",
      " 'date': datetime.datetime(2025, 9, 24, 11, 21, 14, 734000),\n",
      " 'tags': ['mongodb', 'python', 'pymongo'],\n",
      " 'text': 'My first blog post!'}\n"
     ]
    }
   ],
   "source": [
    "# pprint library \n",
    "\n",
    "import pprint\n",
    "\n",
    "# Lets compare print and pprint\n",
    "\n",
    "print(collection.find_one())\n",
    "\n",
    "print(\"---------------------------------------------------------------\")\n",
    "\n",
    "pprint.pprint(collection.find_one())"
   ]
  },
  {
   "cell_type": "markdown",
   "id": "0770666a-2f41-4806-8d40-aa2379fbb800",
   "metadata": {},
   "source": [
    "To retrieve a single document from a collection that matches a given query (specific criteria), we use ``find_one`` method. \n",
    "If multiple documents match the query, only the first one found (according to its natural order, which reflects the order of documents on the disk) will be returned."
   ]
  },
  {
   "cell_type": "code",
   "execution_count": 25,
   "id": "1c91c845-d73b-4d41-940e-8b384b20de46",
   "metadata": {},
   "outputs": [
    {
     "name": "stdout",
     "output_type": "stream",
     "text": [
      "{'_id': ObjectId('68d3d4646d66beb99a764b2a'),\n",
      " 'author': 'Mike',\n",
      " 'date': datetime.datetime(2025, 9, 24, 11, 21, 14, 734000),\n",
      " 'tags': ['mongodb', 'python', 'pymongo'],\n",
      " 'text': 'My first blog post!'}\n",
      "---------------------------------------------------------------\n",
      "{'_id': ObjectId('68d3d4646d66beb99a764b2a'),\n",
      " 'author': 'Mike',\n",
      " 'date': datetime.datetime(2025, 9, 24, 11, 21, 14, 734000),\n",
      " 'tags': ['mongodb', 'python', 'pymongo'],\n",
      " 'text': 'My first blog post!'}\n",
      "---------------------------------------------------------------\n",
      "None\n"
     ]
    }
   ],
   "source": [
    "# to show the first document in the collection\n",
    "pprint.pprint(collection.find_one({}))\n",
    "\n",
    "print(\"---------------------------------------------------------------\")\n",
    "\n",
    "# to show the first document in the collection that has author as a key and Mike as a value\n",
    "\n",
    "pprint.pprint(collection.find_one({\"author\": \"Mike\"}))\n",
    "\n",
    "print(\"---------------------------------------------------------------\")\n",
    "\n",
    "pprint.pprint(collection.find_one({\"author\": \"ABC\"}))"
   ]
  },
  {
   "cell_type": "markdown",
   "id": "afffed0f-8e99-46f3-923a-49641e9fb33d",
   "metadata": {},
   "source": [
    "## Inserting Many Documents"
   ]
  },
  {
   "cell_type": "markdown",
   "id": "d82e9a25-2acb-4893-8e07-dd2962667849",
   "metadata": {},
   "source": [
    "```insert_many()``` This method is used to insert multiple entries in a collection or the database in MongoDB. the parameter of this method is a list that contains dictionaries of the data that we want to insert in the collection.\n",
    "This is faster and more straightforward than calling ```.insert_one()``` multiple times. The call to ```.insert_many()``` takes an iterable documents and insert them into the collection in your databse."
   ]
  },
  {
   "cell_type": "code",
   "execution_count": 26,
   "id": "68b03012-67a2-46ca-aa29-0a27a1cf5794",
   "metadata": {},
   "outputs": [],
   "source": [
    "post_2 = {\"author\": \"Yuba\",\n",
    "       \"text\": \"I am your teacher!\",\n",
    "       \"tags\": [\"analytics\", \"python\", \"bigdata\"],\n",
    "       \"date\": datetime.datetime.now(datetime.UTC)}\n",
    "\n",
    "post_3 = {\"author\": \"David\",\n",
    "       \"text\": \"The best Uni!\",\n",
    "       \"tags\": [\"test1\", \"test2\", \"test3\"],\n",
    "       \"date\": datetime.datetime.now(datetime.UTC)}"
   ]
  },
  {
   "cell_type": "code",
   "execution_count": 27,
   "id": "e097241d-f384-4cd3-8e05-90733353ba2f",
   "metadata": {},
   "outputs": [],
   "source": [
    "more_posts = collection.insert_many([post_2, post_3])"
   ]
  },
  {
   "cell_type": "markdown",
   "id": "616fe940-b8f1-4a0b-a4f0-c74503102b46",
   "metadata": {},
   "source": [
    "```.inserted_ids``` provides a way to quickly retrieve the IDs of the documents you've just added, especially useful when the database automatically assigns these IDs (using ObjectId)."
   ]
  },
  {
   "cell_type": "code",
   "execution_count": 28,
   "id": "5ecd509a-2377-4635-8509-4a96cc043a21",
   "metadata": {},
   "outputs": [
    {
     "data": {
      "text/plain": [
       "[ObjectId('68d3d6d26d66beb99a764b2b'), ObjectId('68d3d6d26d66beb99a764b2c')]"
      ]
     },
     "execution_count": 28,
     "metadata": {},
     "output_type": "execute_result"
    }
   ],
   "source": [
    "more_posts.inserted_ids"
   ]
  },
  {
   "cell_type": "markdown",
   "id": "fe05fdd3-97c7-4d97-94d9-c39aa2268da7",
   "metadata": {},
   "source": [
    "This code iterates over the IDs of the recently inserted documents in the collection (obtained from `new_result.inserted_ids`). For each ID, it fetches and pretty-prints the corresponding document from the collection using the `find_one` method."
   ]
  },
  {
   "cell_type": "code",
   "execution_count": 29,
   "id": "ca2fa958-ca60-4992-b65e-8c9e566cd33e",
   "metadata": {},
   "outputs": [
    {
     "name": "stdout",
     "output_type": "stream",
     "text": [
      "{'_id': ObjectId('68d3d6d26d66beb99a764b2b'),\n",
      " 'author': 'Yuba',\n",
      " 'date': datetime.datetime(2025, 9, 24, 11, 32, 31, 407000),\n",
      " 'tags': ['analytics', 'python', 'bigdata'],\n",
      " 'text': 'I am your teacher!'}\n",
      "{'_id': ObjectId('68d3d6d26d66beb99a764b2c'),\n",
      " 'author': 'David',\n",
      " 'date': datetime.datetime(2025, 9, 24, 11, 32, 31, 407000),\n",
      " 'tags': ['test1', 'test2', 'test3'],\n",
      " 'text': 'The best Uni!'}\n"
     ]
    }
   ],
   "source": [
    "for i in more_posts.inserted_ids:\n",
    "    pprint.pprint(collection.find_one({\"_id\": i}))"
   ]
  },
  {
   "cell_type": "code",
   "execution_count": 30,
   "id": "fd1ba3aa-8513-44a2-a665-1b538c8ee155",
   "metadata": {},
   "outputs": [
    {
     "name": "stdout",
     "output_type": "stream",
     "text": [
      "<pymongo.synchronous.cursor.Cursor object at 0x000001FC1BEF16D0>\n",
      "---------------------------------------------------------------\n",
      "{'_id': ObjectId('68d3d4646d66beb99a764b2a'),\n",
      " 'author': 'Mike',\n",
      " 'date': datetime.datetime(2025, 9, 24, 11, 21, 14, 734000),\n",
      " 'tags': ['mongodb', 'python', 'pymongo'],\n",
      " 'text': 'My first blog post!'}\n",
      "---------------------------------------------------------------\n",
      "{'_id': ObjectId('68d3d4646d66beb99a764b2a'),\n",
      " 'author': 'Mike',\n",
      " 'date': datetime.datetime(2025, 9, 24, 11, 21, 14, 734000),\n",
      " 'tags': ['mongodb', 'python', 'pymongo'],\n",
      " 'text': 'My first blog post!'}\n",
      "---------------------------------------------------------------\n",
      "{'_id': ObjectId('68d3d6d26d66beb99a764b2b'),\n",
      " 'author': 'Yuba',\n",
      " 'date': datetime.datetime(2025, 9, 24, 11, 32, 31, 407000),\n",
      " 'tags': ['analytics', 'python', 'bigdata'],\n",
      " 'text': 'I am your teacher!'}\n"
     ]
    }
   ],
   "source": [
    "pprint.pprint(collection.find())\n",
    "print(\"---------------------------------------------------------------\")\n",
    "\n",
    "# to show the first document in the collection\n",
    "pprint.pprint(collection.find_one({}))\n",
    "print(\"---------------------------------------------------------------\")\n",
    "\n",
    "# to show the first document in the collection that has author as a key and Mike as a value\n",
    "\n",
    "pprint.pprint(collection.find_one({\"author\": \"Mike\"}))\n",
    "print(\"---------------------------------------------------------------\")\n",
    "\n",
    "pprint.pprint(collection.find_one({\"author\": \"Yuba\"}))"
   ]
  },
  {
   "cell_type": "code",
   "execution_count": 48,
   "id": "c8cf3fec-0a90-46d5-88ac-5d01b422cd5c",
   "metadata": {},
   "outputs": [
    {
     "name": "stdout",
     "output_type": "stream",
     "text": [
      "{'_id': ObjectId('68d15369c43ec0f38970b2fc'),\n",
      " 'author': 'Mike',\n",
      " 'date': datetime.datetime(2025, 9, 22, 13, 45, 32, 519000),\n",
      " 'tags': ['mongodb', 'python', 'pymongo'],\n",
      " 'text': 'My first blog post!'}\n",
      "{'_id': ObjectId('68d159ffc43ec0f38970b2fd'),\n",
      " 'author': 'Atie',\n",
      " 'date': datetime.datetime(2025, 9, 22, 14, 14, 27, 945000),\n",
      " 'tags': ['analytics', 'python', 'bigdata'],\n",
      " 'text': 'I am your teacher!'}\n",
      "{'_id': ObjectId('68d159ffc43ec0f38970b2fe'),\n",
      " 'author': 'David',\n",
      " 'date': datetime.datetime(2025, 9, 22, 14, 14, 27, 945000),\n",
      " 'tags': ['test1', 'test2', 'test3'],\n",
      " 'text': 'The best Uni!'}\n",
      "{'_id': ObjectId('68d15a67c43ec0f38970b2ff'),\n",
      " 'author': 'Atie',\n",
      " 'date': datetime.datetime(2025, 9, 22, 14, 17, 8, 970000),\n",
      " 'tags': ['analytics', 'python', 'bigdata'],\n",
      " 'text': 'I am your teacher!'}\n",
      "{'_id': ObjectId('68d15a67c43ec0f38970b300'),\n",
      " 'author': 'David',\n",
      " 'date': datetime.datetime(2025, 9, 22, 14, 17, 8, 970000),\n",
      " 'tags': ['test1', 'test2', 'test3'],\n",
      " 'text': 'The best Uni!'}\n",
      "{'_id': ObjectId('68d15ad2c43ec0f38970b301'),\n",
      " 'author': 'Yuba',\n",
      " 'date': datetime.datetime(2025, 9, 22, 14, 18, 56, 649000),\n",
      " 'tags': ['analytics', 'python', 'bigdata'],\n",
      " 'text': 'I am your teacher!'}\n",
      "{'_id': ObjectId('68d15ad2c43ec0f38970b302'),\n",
      " 'author': 'David',\n",
      " 'date': datetime.datetime(2025, 9, 22, 14, 18, 56, 649000),\n",
      " 'tags': ['test1', 'test2', 'test3'],\n",
      " 'text': 'The best Uni!'}\n"
     ]
    }
   ],
   "source": [
    "for r in collection.find({}):\n",
    "    pprint.pprint(r)"
   ]
  },
  {
   "cell_type": "code",
   "execution_count": 31,
   "id": "20ec3e38-fa27-4bbc-8933-752cbed62e87",
   "metadata": {},
   "outputs": [],
   "source": [
    "query_result = collection.find({\"author\": \"Mike\"})"
   ]
  },
  {
   "cell_type": "code",
   "execution_count": 32,
   "id": "9d359b60-a469-4551-aef9-5a1ee5e1ae82",
   "metadata": {},
   "outputs": [
    {
     "name": "stdout",
     "output_type": "stream",
     "text": [
      "{'_id': ObjectId('68d3d4646d66beb99a764b2a'),\n",
      " 'author': 'Mike',\n",
      " 'date': datetime.datetime(2025, 9, 24, 11, 21, 14, 734000),\n",
      " 'tags': ['mongodb', 'python', 'pymongo'],\n",
      " 'text': 'My first blog post!'}\n"
     ]
    }
   ],
   "source": [
    "pprint.pprint(query_result[0])"
   ]
  },
  {
   "cell_type": "code",
   "execution_count": 33,
   "id": "52db2d9f-728b-4bd5-afa6-52e8a45234e6",
   "metadata": {},
   "outputs": [
    {
     "name": "stdout",
     "output_type": "stream",
     "text": [
      "{'_id': ObjectId('68d3d4646d66beb99a764b2a'),\n",
      " 'author': 'Mike',\n",
      " 'date': datetime.datetime(2025, 9, 24, 11, 21, 14, 734000),\n",
      " 'tags': ['mongodb', 'python', 'pymongo'],\n",
      " 'text': 'My first blog post!'}\n"
     ]
    }
   ],
   "source": [
    "for r in query_result:\n",
    "    pprint.pprint(r)"
   ]
  },
  {
   "cell_type": "markdown",
   "id": "4624b6ce-27af-48da-9f1d-518f406cea26",
   "metadata": {},
   "source": [
    "### Update"
   ]
  },
  {
   "cell_type": "code",
   "execution_count": 34,
   "id": "70cf06dd-38e6-405d-a0f4-b20cb2b659ea",
   "metadata": {},
   "outputs": [],
   "source": [
    "post_4 = {\"author\": \"Mike\",\n",
    "       \"text\": \"hahahahaha!\",\n",
    "       \"tags\": [\"analytics\", \"python\", \"bigdata\"],\n",
    "       \"date\": datetime.datetime.now(datetime.UTC)}"
   ]
  },
  {
   "cell_type": "code",
   "execution_count": 35,
   "id": "024d2ae7-da1a-43ad-ac3c-fb58386fc02c",
   "metadata": {},
   "outputs": [],
   "source": [
    "post_5 = {\"author\": \"David\",\n",
    "       \"text\": \"hahaha jsshs sbgs sjshaha!\",\n",
    "       \"tags\": [\"analytics\", \"python\", \"bigdata\"],\n",
    "       \"date\": datetime.datetime.now(datetime.UTC)}"
   ]
  },
  {
   "cell_type": "code",
   "execution_count": 36,
   "id": "0eba0fec-6ce9-472f-b7da-eefa7951b82f",
   "metadata": {},
   "outputs": [
    {
     "data": {
      "text/plain": [
       "InsertOneResult(ObjectId('68d3d89b6d66beb99a764b2d'), acknowledged=True)"
      ]
     },
     "execution_count": 36,
     "metadata": {},
     "output_type": "execute_result"
    }
   ],
   "source": [
    "#collection.insert_one(post_4)\n",
    "collection.insert_one(post_5)"
   ]
  },
  {
   "cell_type": "code",
   "execution_count": 37,
   "id": "627ed9d4-f4b4-4a38-931e-b760117e3552",
   "metadata": {},
   "outputs": [
    {
     "data": {
      "text/plain": [
       "UpdateResult({'n': 1, 'nModified': 1, 'ok': 1.0, 'updatedExisting': True}, acknowledged=True)"
      ]
     },
     "execution_count": 37,
     "metadata": {},
     "output_type": "execute_result"
    }
   ],
   "source": [
    "collection.update_one({\"author\": \"Mike\"}, {\"$set\": {\"author\": \"Jack\"}})"
   ]
  },
  {
   "cell_type": "code",
   "execution_count": 38,
   "id": "9243075e-a67a-408b-91f2-c75f53cbee47",
   "metadata": {},
   "outputs": [
    {
     "name": "stdout",
     "output_type": "stream",
     "text": [
      "{'_id': ObjectId('68d3d4646d66beb99a764b2a'),\n",
      " 'author': 'Jack',\n",
      " 'date': datetime.datetime(2025, 9, 24, 11, 21, 14, 734000),\n",
      " 'tags': ['mongodb', 'python', 'pymongo'],\n",
      " 'text': 'My first blog post!'}\n",
      "{'_id': ObjectId('68d3d6d26d66beb99a764b2b'),\n",
      " 'author': 'Yuba',\n",
      " 'date': datetime.datetime(2025, 9, 24, 11, 32, 31, 407000),\n",
      " 'tags': ['analytics', 'python', 'bigdata'],\n",
      " 'text': 'I am your teacher!'}\n",
      "{'_id': ObjectId('68d3d6d26d66beb99a764b2c'),\n",
      " 'author': 'David',\n",
      " 'date': datetime.datetime(2025, 9, 24, 11, 32, 31, 407000),\n",
      " 'tags': ['test1', 'test2', 'test3'],\n",
      " 'text': 'The best Uni!'}\n",
      "{'_id': ObjectId('68d3d89b6d66beb99a764b2d'),\n",
      " 'author': 'David',\n",
      " 'date': datetime.datetime(2025, 9, 24, 11, 40, 8, 806000),\n",
      " 'tags': ['analytics', 'python', 'bigdata'],\n",
      " 'text': 'hahaha jsshs sbgs sjshaha!'}\n"
     ]
    }
   ],
   "source": [
    "for r in collection.find({}):\n",
    "    pprint.pprint(r)"
   ]
  },
  {
   "cell_type": "code",
   "execution_count": 58,
   "id": "173d96dd-33d6-4725-89b7-af470568acbe",
   "metadata": {},
   "outputs": [
    {
     "data": {
      "text/plain": [
       "UpdateResult({'n': 4, 'nModified': 4, 'ok': 1.0, 'updatedExisting': True}, acknowledged=True)"
      ]
     },
     "execution_count": 58,
     "metadata": {},
     "output_type": "execute_result"
    }
   ],
   "source": [
    "collection.update_many({\"author\": \"David\"}, {\"$set\": {\"author\": \"Jack\"}})"
   ]
  },
  {
   "cell_type": "code",
   "execution_count": 39,
   "id": "d33cd1ff-d551-425e-bbab-d512a3eeca50",
   "metadata": {},
   "outputs": [
    {
     "name": "stdout",
     "output_type": "stream",
     "text": [
      "{'_id': ObjectId('68d3d4646d66beb99a764b2a'),\n",
      " 'author': 'Jack',\n",
      " 'date': datetime.datetime(2025, 9, 24, 11, 21, 14, 734000),\n",
      " 'tags': ['mongodb', 'python', 'pymongo'],\n",
      " 'text': 'My first blog post!'}\n",
      "{'_id': ObjectId('68d3d6d26d66beb99a764b2b'),\n",
      " 'author': 'Yuba',\n",
      " 'date': datetime.datetime(2025, 9, 24, 11, 32, 31, 407000),\n",
      " 'tags': ['analytics', 'python', 'bigdata'],\n",
      " 'text': 'I am your teacher!'}\n",
      "{'_id': ObjectId('68d3d6d26d66beb99a764b2c'),\n",
      " 'author': 'David',\n",
      " 'date': datetime.datetime(2025, 9, 24, 11, 32, 31, 407000),\n",
      " 'tags': ['test1', 'test2', 'test3'],\n",
      " 'text': 'The best Uni!'}\n",
      "{'_id': ObjectId('68d3d89b6d66beb99a764b2d'),\n",
      " 'author': 'David',\n",
      " 'date': datetime.datetime(2025, 9, 24, 11, 40, 8, 806000),\n",
      " 'tags': ['analytics', 'python', 'bigdata'],\n",
      " 'text': 'hahaha jsshs sbgs sjshaha!'}\n"
     ]
    }
   ],
   "source": [
    "for r in collection.find({}):\n",
    "    pprint.pprint(r)"
   ]
  },
  {
   "cell_type": "code",
   "execution_count": null,
   "id": "d2355e8a-70ea-4529-8200-58ffa7e1dde4",
   "metadata": {},
   "outputs": [],
   "source": [
    "### Delete"
   ]
  },
  {
   "cell_type": "code",
   "execution_count": 40,
   "id": "5c21db13-633e-4201-9f3a-bdbc13b9ef12",
   "metadata": {},
   "outputs": [
    {
     "data": {
      "text/plain": [
       "DeleteResult({'n': 0, 'ok': 1.0}, acknowledged=True)"
      ]
     },
     "execution_count": 40,
     "metadata": {},
     "output_type": "execute_result"
    }
   ],
   "source": [
    "collection.delete_one({\"author\": \"Mike\"})"
   ]
  },
  {
   "cell_type": "code",
   "execution_count": 41,
   "id": "56749415-cc5d-4cb2-9b14-680f3055c852",
   "metadata": {},
   "outputs": [
    {
     "name": "stdout",
     "output_type": "stream",
     "text": [
      "{'_id': ObjectId('68d3d4646d66beb99a764b2a'),\n",
      " 'author': 'Jack',\n",
      " 'date': datetime.datetime(2025, 9, 24, 11, 21, 14, 734000),\n",
      " 'tags': ['mongodb', 'python', 'pymongo'],\n",
      " 'text': 'My first blog post!'}\n",
      "{'_id': ObjectId('68d3d6d26d66beb99a764b2b'),\n",
      " 'author': 'Yuba',\n",
      " 'date': datetime.datetime(2025, 9, 24, 11, 32, 31, 407000),\n",
      " 'tags': ['analytics', 'python', 'bigdata'],\n",
      " 'text': 'I am your teacher!'}\n",
      "{'_id': ObjectId('68d3d6d26d66beb99a764b2c'),\n",
      " 'author': 'David',\n",
      " 'date': datetime.datetime(2025, 9, 24, 11, 32, 31, 407000),\n",
      " 'tags': ['test1', 'test2', 'test3'],\n",
      " 'text': 'The best Uni!'}\n",
      "{'_id': ObjectId('68d3d89b6d66beb99a764b2d'),\n",
      " 'author': 'David',\n",
      " 'date': datetime.datetime(2025, 9, 24, 11, 40, 8, 806000),\n",
      " 'tags': ['analytics', 'python', 'bigdata'],\n",
      " 'text': 'hahaha jsshs sbgs sjshaha!'}\n"
     ]
    }
   ],
   "source": [
    "for r in collection.find({}):\n",
    "    pprint.pprint(r)"
   ]
  },
  {
   "cell_type": "code",
   "execution_count": 42,
   "id": "44ab5e75-d006-4a93-9519-0c475f91362f",
   "metadata": {},
   "outputs": [
    {
     "data": {
      "text/plain": [
       "DeleteResult({'n': 1, 'ok': 1.0}, acknowledged=True)"
      ]
     },
     "execution_count": 42,
     "metadata": {},
     "output_type": "execute_result"
    }
   ],
   "source": [
    "collection.delete_many({\"author\": \"Jack\"})"
   ]
  },
  {
   "cell_type": "code",
   "execution_count": 43,
   "id": "60b1f376-feed-459d-bb7a-d5ef4d4565c4",
   "metadata": {},
   "outputs": [
    {
     "name": "stdout",
     "output_type": "stream",
     "text": [
      "{'_id': ObjectId('68d3d6d26d66beb99a764b2b'),\n",
      " 'author': 'Yuba',\n",
      " 'date': datetime.datetime(2025, 9, 24, 11, 32, 31, 407000),\n",
      " 'tags': ['analytics', 'python', 'bigdata'],\n",
      " 'text': 'I am your teacher!'}\n",
      "{'_id': ObjectId('68d3d6d26d66beb99a764b2c'),\n",
      " 'author': 'David',\n",
      " 'date': datetime.datetime(2025, 9, 24, 11, 32, 31, 407000),\n",
      " 'tags': ['test1', 'test2', 'test3'],\n",
      " 'text': 'The best Uni!'}\n",
      "{'_id': ObjectId('68d3d89b6d66beb99a764b2d'),\n",
      " 'author': 'David',\n",
      " 'date': datetime.datetime(2025, 9, 24, 11, 40, 8, 806000),\n",
      " 'tags': ['analytics', 'python', 'bigdata'],\n",
      " 'text': 'hahaha jsshs sbgs sjshaha!'}\n"
     ]
    }
   ],
   "source": [
    "for r in collection.find({}):\n",
    "    pprint.pprint(r)"
   ]
  },
  {
   "cell_type": "code",
   "execution_count": 14,
   "id": "2e069424-d307-46de-b49d-36b6bcdc52d1",
   "metadata": {},
   "outputs": [],
   "source": [
    "# to delete a database you can use client.drop_database('database_name')\n",
    "\n",
    "client.drop_database('post_database')"
   ]
  },
  {
   "cell_type": "code",
   "execution_count": null,
   "id": "b957f305-46cd-432c-a35b-469b1589aa68",
   "metadata": {},
   "outputs": [],
   "source": [
    "# This is end of Lab 02"
   ]
  }
 ],
 "metadata": {
  "kernelspec": {
   "display_name": "Python 3 (ipykernel)",
   "language": "python",
   "name": "python3"
  },
  "language_info": {
   "codemirror_mode": {
    "name": "ipython",
    "version": 3
   },
   "file_extension": ".py",
   "mimetype": "text/x-python",
   "name": "python",
   "nbconvert_exporter": "python",
   "pygments_lexer": "ipython3",
   "version": "3.13.5"
  }
 },
 "nbformat": 4,
 "nbformat_minor": 5
}
