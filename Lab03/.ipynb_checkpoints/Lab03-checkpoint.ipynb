{
 "cells": [
  {
   "cell_type": "markdown",
   "id": "e87e4bc4-6638-4876-90e1-c7a1b4278967",
   "metadata": {},
   "source": [
    "# Python MongoDB Tutorial using PyMongo"
   ]
  },
  {
   "cell_type": "markdown",
   "id": "562bb382-fa69-4484-825c-7abd23236eb4",
   "metadata": {},
   "source": [
    "# Go to https://www.mongodb.com/ and create an account"
   ]
  },
  {
   "cell_type": "markdown",
   "id": "9d2c68e8-a58d-4a62-ac47-d01f75ebd282",
   "metadata": {},
   "source": [
    "# use free clusture from AWS(Make sure to only use free clusture)"
   ]
  },
  {
   "cell_type": "markdown",
   "id": "32bb5448-bf5c-4085-bab7-f0a3389d5863",
   "metadata": {},
   "source": [
    "# create database on Atlas"
   ]
  },
  {
   "cell_type": "markdown",
   "id": "458ae5b7-ae23-4ae4-9ef6-94a036e18ee2",
   "metadata": {},
   "source": [
    "# Now you've created database in collection."
   ]
  },
  {
   "cell_type": "markdown",
   "id": "1bd50ca8-8b8b-4e69-be1e-bed25f35f41e",
   "metadata": {},
   "source": [
    "# go back to Project 0 and connect"
   ]
  },
  {
   "cell_type": "markdown",
   "id": "7ce5c1ed-8992-4fcb-a50b-c6bba2637ded",
   "metadata": {},
   "source": [
    "#select your driver(python and version)"
   ]
  },
  {
   "cell_type": "code",
   "execution_count": null,
   "id": "13c22775-c806-4764-a65c-314048447595",
   "metadata": {},
   "outputs": [],
   "source": []
  }
 ],
 "metadata": {
  "kernelspec": {
   "display_name": "Python 3 (ipykernel)",
   "language": "python",
   "name": "python3"
  },
  "language_info": {
   "codemirror_mode": {
    "name": "ipython",
    "version": 3
   },
   "file_extension": ".py",
   "mimetype": "text/x-python",
   "name": "python",
   "nbconvert_exporter": "python",
   "pygments_lexer": "ipython3",
   "version": "3.13.5"
  }
 },
 "nbformat": 4,
 "nbformat_minor": 5
}
