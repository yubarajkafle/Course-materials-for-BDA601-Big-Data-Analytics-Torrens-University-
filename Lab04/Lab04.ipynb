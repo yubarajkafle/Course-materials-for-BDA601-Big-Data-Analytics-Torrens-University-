{
 "cells": [
  {
   "cell_type": "markdown",
   "id": "d3b56135-6786-4bea-b674-f804e0847b11",
   "metadata": {},
   "source": [
    "### Install Pyspark and Java jdk as provided in the installation folder of github\n",
    "https://github.com/yubarajkafle/Course-materials-for-BDA601-Big-Data-Analytics-Torrens-University-/tree/main/Installation/Pyspark"
   ]
  },
  {
   "cell_type": "markdown",
   "id": "cf27a256-3735-4ac3-8491-fa5373e38ffe",
   "metadata": {},
   "source": [
    "### Copy data from below link to the same folder where this lab is located\n",
    "https://www.kaggle.com/datasets/isadoraamorim/trafficcrasheschicago?resource=download"
   ]
  },
  {
   "cell_type": "code",
   "execution_count": 1,
   "id": "d929ab0a-6b86-40d3-86cf-3aed4e31d287",
   "metadata": {},
   "outputs": [
    {
     "name": "stdout",
     "output_type": "stream",
     "text": [
      "Requirement already satisfied: pyspark in c:\\users\\yubar\\anaconda3\\lib\\site-packages (4.0.1)\n",
      "Requirement already satisfied: py4j==0.10.9.9 in c:\\users\\yubar\\anaconda3\\lib\\site-packages (from pyspark) (0.10.9.9)\n"
     ]
    }
   ],
   "source": [
    "# PySpark: Spark's API for Python.\n",
    "!pip install pyspark"
   ]
  },
  {
   "cell_type": "code",
   "execution_count": 2,
   "id": "2ef95e22-4437-47af-b8c0-e81872589972",
   "metadata": {},
   "outputs": [],
   "source": [
    "#import necessary packages \n",
    "from pyspark.sql import SparkSession"
   ]
  },
  {
   "cell_type": "code",
   "execution_count": 3,
   "id": "b1e36b75-1930-4eed-877a-d70cc3dd8601",
   "metadata": {},
   "outputs": [],
   "source": [
    "import os\n",
    "os.environ[\"JAVA_HOME\"] = \"C:\\Program Files\\Java\\jdk-17\"\n",
    "os.environ[\"PATH\"] = os.environ[\"JAVA_HOME\"] + r\"\\bin;\" + os.environ[\"PATH\"]"
   ]
  },
  {
   "cell_type": "markdown",
   "id": "a7bc9436-220a-4f53-af92-ee7af709e8a6",
   "metadata": {},
   "source": [
    "### What is SparkSession?\n",
    "Spark Session: A unified entry point for DataFrame and Dataset APIs.It's object \"spark\" is default available in spark-shell and it can be created programmatically using SparkSession builder pattern."
   ]
  },
  {
   "cell_type": "markdown",
   "id": "b9ca1398-cb6d-41d0-a505-bf5caccd2abc",
   "metadata": {},
   "source": [
    "In Apache Spark 2.x and later, the `SparkSession` is the entry point to any Spark functionality. When you want to run a Spark application, you first need to create a SparkSession. \n",
    "\n",
    "The `SparkSession.builder().getOrCreate()` method is a way to ensure that a SparkSession is created only once in an application.\n",
    "\n",
    "`SparkSession.builder()`: This returns a SparkSession.Builder object, which is a builder for a SparkSession. With the builder, you can configure options for the SparkSession, such as appName, master, and various Spark configurations using the config method.\n",
    "\n",
    "`getOrCreate()`: When called on a SparkSession.Builder object, this method: Retrieves the existing SparkSession if one already exists.\n",
    "Creates a new SparkSession if none exists."
   ]
  },
  {
   "cell_type": "code",
   "execution_count": 5,
   "id": "27f96269-d77e-446c-88c4-300265be9f4a",
   "metadata": {},
   "outputs": [],
   "source": [
    "#Create Spark session\n",
    "spark = SparkSession.builder.getOrCreate()"
   ]
  },
  {
   "cell_type": "markdown",
   "id": "0dd72f6d-8785-4fc5-b0ab-8e39693b5031",
   "metadata": {},
   "source": [
    "### Create a DataFrame from a CSV file\n",
    "`read`:\n",
    "This is a method associated with SparkSession and it returns a DataFrameReader that can be used to read data. The read method provides functionality to read data from various sources into a Spark DataFrame.\n",
    "\n",
    "`option('header', 'true')`:\n",
    "The option method allows you to specify options when reading data. In this case, the option being set is 'header' with the value 'true'. This means that the first row of the CSV file (Traffic_Crashes_-_Crashes.csv) is considered as a header and will be used to name the columns of the DataFrame.\n",
    "\n",
    "If this option wasn't set (or set to 'false'), the CSV file would be read without considering the first row as a header, and default column names would be assigned (like _c0, _c1, etc.)."
   ]
  },
  {
   "cell_type": "markdown",
   "id": "b6428b5f-9576-406e-962b-288d6e2a2305",
   "metadata": {},
   "source": [
    "**Q1: Load the data from the csv files into DataFrames.**"
   ]
  },
  {
   "cell_type": "code",
   "execution_count": 6,
   "id": "99f68193-cf04-405e-a419-e4a3a7c35655",
   "metadata": {},
   "outputs": [],
   "source": [
    "# Load the data from the csv files into DataFrames.\n",
    "crashes = spark.read.option('header', 'true').csv('Traffic_Crashes_-_Crashes.csv')\n",
    "vehicles = spark.read.option('header' , 'true').csv('Traffic_Crashes_-_Vehicles.csv')\n",
    "peoples = spark.read.option( 'header', 'true').csv('Traffic_Crashes_-_People.csv')"
   ]
  },
  {
   "cell_type": "code",
   "execution_count": 7,
   "id": "71e8ca07-e4e2-488f-864d-b0bcec7fcf15",
   "metadata": {},
   "outputs": [
    {
     "name": "stdout",
     "output_type": "stream",
     "text": [
      "<class 'pyspark.sql.classic.dataframe.DataFrame'>\n"
     ]
    }
   ],
   "source": [
    "# let's see what is the type of crashes\n",
    "print(type(crashes))"
   ]
  },
  {
   "cell_type": "code",
   "execution_count": 8,
   "id": "c4e74fe0-694c-4788-b431-7bd5db049aab",
   "metadata": {},
   "outputs": [
    {
     "data": {
      "text/plain": [
       "[('RD_NO', 'string'),\n",
       " ('CRASH_DATE_EST_I', 'string'),\n",
       " ('CRASH_DATE', 'string'),\n",
       " ('POSTED_SPEED_LIMIT', 'string'),\n",
       " ('TRAFFIC_CONTROL_DEVICE', 'string'),\n",
       " ('DEVICE_CONDITION', 'string'),\n",
       " ('WEATHER_CONDITION', 'string'),\n",
       " ('LIGHTING_CONDITION', 'string'),\n",
       " ('FIRST_CRASH_TYPE', 'string'),\n",
       " ('TRAFFICWAY_TYPE', 'string'),\n",
       " ('LANE_CNT', 'string'),\n",
       " ('ALIGNMENT', 'string'),\n",
       " ('ROADWAY_SURFACE_COND', 'string'),\n",
       " ('ROAD_DEFECT', 'string'),\n",
       " ('REPORT_TYPE', 'string'),\n",
       " ('CRASH_TYPE', 'string'),\n",
       " ('INTERSECTION_RELATED_I', 'string'),\n",
       " ('NOT_RIGHT_OF_WAY_I', 'string'),\n",
       " ('HIT_AND_RUN_I', 'string'),\n",
       " ('DAMAGE', 'string'),\n",
       " ('DATE_POLICE_NOTIFIED', 'string'),\n",
       " ('PRIM_CONTRIBUTORY_CAUSE', 'string'),\n",
       " ('SEC_CONTRIBUTORY_CAUSE', 'string'),\n",
       " ('STREET_NO', 'string'),\n",
       " ('STREET_DIRECTION', 'string'),\n",
       " ('STREET_NAME', 'string'),\n",
       " ('BEAT_OF_OCCURRENCE', 'string'),\n",
       " ('PHOTOS_TAKEN_I', 'string'),\n",
       " ('STATEMENTS_TAKEN_I', 'string'),\n",
       " ('DOORING_I', 'string'),\n",
       " ('WORK_ZONE_I', 'string'),\n",
       " ('WORK_ZONE_TYPE', 'string'),\n",
       " ('WORKERS_PRESENT_I', 'string'),\n",
       " ('NUM_UNITS', 'string'),\n",
       " ('MOST_SEVERE_INJURY', 'string'),\n",
       " ('INJURIES_TOTAL', 'string'),\n",
       " ('INJURIES_FATAL', 'string'),\n",
       " ('INJURIES_INCAPACITATING', 'string'),\n",
       " ('INJURIES_NON_INCAPACITATING', 'string'),\n",
       " ('INJURIES_REPORTED_NOT_EVIDENT', 'string'),\n",
       " ('INJURIES_NO_INDICATION', 'string'),\n",
       " ('INJURIES_UNKNOWN', 'string'),\n",
       " ('CRASH_HOUR', 'string'),\n",
       " ('CRASH_DAY_OF_WEEK', 'string'),\n",
       " ('CRASH_MONTH', 'string'),\n",
       " ('LATITUDE', 'string'),\n",
       " ('LONGITUDE', 'string'),\n",
       " ('LOCATION', 'string')]"
      ]
     },
     "execution_count": 8,
     "metadata": {},
     "output_type": "execute_result"
    }
   ],
   "source": [
    "#let's see what is the data type of each DataFrame \n",
    "crashes.dtypes"
   ]
  },
  {
   "cell_type": "code",
   "execution_count": 9,
   "id": "905166e6-9e3a-4e3a-a1b9-c8b3631d80d6",
   "metadata": {},
   "outputs": [
    {
     "data": {
      "text/plain": [
       "[('CRASH_UNIT_ID', 'string'),\n",
       " ('RD_NO', 'string'),\n",
       " ('CRASH_DATE', 'string'),\n",
       " ('UNIT_NO', 'string'),\n",
       " ('UNIT_TYPE', 'string'),\n",
       " ('NUM_PASSENGERS', 'string'),\n",
       " ('VEHICLE_ID', 'string'),\n",
       " ('CMRC_VEH_I', 'string'),\n",
       " ('MAKE', 'string'),\n",
       " ('MODEL', 'string'),\n",
       " ('LIC_PLATE_STATE', 'string'),\n",
       " ('VEHICLE_YEAR', 'string'),\n",
       " ('VEHICLE_DEFECT', 'string'),\n",
       " ('VEHICLE_TYPE', 'string'),\n",
       " ('VEHICLE_USE', 'string'),\n",
       " ('TRAVEL_DIRECTION', 'string'),\n",
       " ('MANEUVER', 'string'),\n",
       " ('TOWED_I', 'string'),\n",
       " ('FIRE_I', 'string'),\n",
       " ('OCCUPANT_CNT', 'string'),\n",
       " ('EXCEED_SPEED_LIMIT_I', 'string'),\n",
       " ('TOWED_BY', 'string'),\n",
       " ('TOWED_TO', 'string'),\n",
       " ('AREA_00_I', 'string'),\n",
       " ('AREA_01_I', 'string'),\n",
       " ('AREA_02_I', 'string'),\n",
       " ('AREA_03_I', 'string'),\n",
       " ('AREA_04_I', 'string'),\n",
       " ('AREA_05_I', 'string'),\n",
       " ('AREA_06_I', 'string'),\n",
       " ('AREA_07_I', 'string'),\n",
       " ('AREA_08_I', 'string'),\n",
       " ('AREA_09_I', 'string'),\n",
       " ('AREA_10_I', 'string'),\n",
       " ('AREA_11_I', 'string'),\n",
       " ('AREA_12_I', 'string'),\n",
       " ('AREA_99_I', 'string'),\n",
       " ('FIRST_CONTACT_POINT', 'string'),\n",
       " ('CMV_ID', 'string'),\n",
       " ('USDOT_NO', 'string'),\n",
       " ('CCMC_NO', 'string'),\n",
       " ('ILCC_NO', 'string'),\n",
       " ('COMMERCIAL_SRC', 'string'),\n",
       " ('GVWR', 'string'),\n",
       " ('CARRIER_NAME', 'string'),\n",
       " ('CARRIER_STATE', 'string'),\n",
       " ('CARRIER_CITY', 'string'),\n",
       " ('HAZMAT_PLACARDS_I', 'string'),\n",
       " ('HAZMAT_NAME', 'string'),\n",
       " ('UN_NO', 'string'),\n",
       " ('HAZMAT_PRESENT_I', 'string'),\n",
       " ('HAZMAT_REPORT_I', 'string'),\n",
       " ('HAZMAT_REPORT_NO', 'string'),\n",
       " ('MCS_REPORT_I', 'string'),\n",
       " ('MCS_REPORT_NO', 'string'),\n",
       " ('HAZMAT_VIO_CAUSE_CRASH_I', 'string'),\n",
       " ('MCS_VIO_CAUSE_CRASH_I', 'string'),\n",
       " ('IDOT_PERMIT_NO', 'string'),\n",
       " ('WIDE_LOAD_I', 'string'),\n",
       " ('TRAILER1_WIDTH', 'string'),\n",
       " ('TRAILER2_WIDTH', 'string'),\n",
       " ('TRAILER1_LENGTH', 'string'),\n",
       " ('TRAILER2_LENGTH', 'string'),\n",
       " ('TOTAL_VEHICLE_LENGTH', 'string'),\n",
       " ('AXLE_CNT', 'string'),\n",
       " ('VEHICLE_CONFIG', 'string'),\n",
       " ('CARGO_BODY_TYPE', 'string'),\n",
       " ('LOAD_TYPE', 'string'),\n",
       " ('HAZMAT_OUT_OF_SERVICE_I', 'string'),\n",
       " ('MCS_OUT_OF_SERVICE_I', 'string'),\n",
       " ('HAZMAT_CLASS', 'string')]"
      ]
     },
     "execution_count": 9,
     "metadata": {},
     "output_type": "execute_result"
    }
   ],
   "source": [
    "vehicles.dtypes"
   ]
  },
  {
   "cell_type": "code",
   "execution_count": 10,
   "id": "e443378c-453e-40a0-9169-8ecb0aafa8d4",
   "metadata": {},
   "outputs": [
    {
     "data": {
      "text/plain": [
       "[('PERSON_ID', 'string'),\n",
       " ('PERSON_TYPE', 'string'),\n",
       " ('RD_NO', 'string'),\n",
       " ('VEHICLE_ID', 'string'),\n",
       " ('CRASH_DATE', 'string'),\n",
       " ('SEAT_NO', 'string'),\n",
       " ('CITY', 'string'),\n",
       " ('STATE', 'string'),\n",
       " ('ZIPCODE', 'string'),\n",
       " ('SEX', 'string'),\n",
       " ('AGE', 'string'),\n",
       " ('DRIVERS_LICENSE_STATE', 'string'),\n",
       " ('DRIVERS_LICENSE_CLASS', 'string'),\n",
       " ('SAFETY_EQUIPMENT', 'string'),\n",
       " ('AIRBAG_DEPLOYED', 'string'),\n",
       " ('EJECTION', 'string'),\n",
       " ('INJURY_CLASSIFICATION', 'string'),\n",
       " ('HOSPITAL', 'string'),\n",
       " ('EMS_AGENCY', 'string'),\n",
       " ('EMS_RUN_NO', 'string'),\n",
       " ('DRIVER_ACTION', 'string'),\n",
       " ('DRIVER_VISION', 'string'),\n",
       " ('PHYSICAL_CONDITION', 'string'),\n",
       " ('PEDPEDAL_ACTION', 'string'),\n",
       " ('PEDPEDAL_VISIBILITY', 'string'),\n",
       " ('PEDPEDAL_LOCATION', 'string'),\n",
       " ('BAC_RESULT', 'string'),\n",
       " ('BAC_RESULT VALUE', 'string'),\n",
       " ('CELL_PHONE_USE', 'string')]"
      ]
     },
     "execution_count": 10,
     "metadata": {},
     "output_type": "execute_result"
    }
   ],
   "source": [
    "peoples.dtypes"
   ]
  },
  {
   "cell_type": "markdown",
   "id": "53eee590-a291-4c4f-981d-fbbf0bab11ea",
   "metadata": {},
   "source": [
    "In PySpark, the `pyspark.sql.types` module provides a collection of data types that you can use to specify the schema of a DataFrame. When you're working with data in Spark, sometimes you might need to explicitly define or cast data to a specific type. This is where these imports come into play."
   ]
  },
  {
   "cell_type": "code",
   "execution_count": 11,
   "id": "a07edce4-7663-4026-897a-ad04c33d0365",
   "metadata": {},
   "outputs": [],
   "source": [
    "from pyspark.sql. types import StringType \n",
    "from pyspark.sql. types import IntegerType"
   ]
  },
  {
   "cell_type": "markdown",
   "id": "d9683711-dadd-435e-8875-d856268cd539",
   "metadata": {},
   "source": [
    "**Q2: Find the ratio of number of crashes where the person involved was using cell phone to that where the person was not using the cell phone.**"
   ]
  },
  {
   "cell_type": "code",
   "execution_count": 12,
   "id": "6a299587-c686-433c-8caa-01f7bae3c89c",
   "metadata": {},
   "outputs": [
    {
     "name": "stdout",
     "output_type": "stream",
     "text": [
      "+---------------------------------+------+\n",
      "|DRIVER_ACTION                    |count |\n",
      "+---------------------------------+------+\n",
      "|LICENSE RESTRICTIONS             |14    |\n",
      "|STOPPED SCHOOL BUS               |63    |\n",
      "|TEXTING                          |222   |\n",
      "|EMERGENCY VEHICLE ON CALL        |369   |\n",
      "|EVADING POLICE VEHICLE           |744   |\n",
      "|CELL PHONE USE OTHER THAN TEXTING|881   |\n",
      "|WRONG WAY/SIDE                   |1531  |\n",
      "|IMPROPER PARKING                 |1858  |\n",
      "|DISREGARDED CONTROL DEVICES      |6503  |\n",
      "|TOO FAST FOR CONDITIONS          |7349  |\n",
      "|IMPROPER PASSING                 |10451 |\n",
      "|IMPROPER TURN                    |12293 |\n",
      "|IMPROPER LANE CHANGE             |13216 |\n",
      "|IMPROPER BACKING                 |15535 |\n",
      "|FOLLOWED TOO CLOSELY             |32437 |\n",
      "|OTHER                            |36694 |\n",
      "|FAILED TO YIELD                  |45429 |\n",
      "|UNKNOWN                          |97801 |\n",
      "|NULL                             |109742|\n",
      "|NONE                             |171168|\n",
      "+---------------------------------+------+\n",
      "\n"
     ]
    }
   ],
   "source": [
    "peoples. groupby(peoples.DRIVER_ACTION).count().orderBy(\"count\").show(n=50,truncate=False)"
   ]
  },
  {
   "cell_type": "markdown",
   "id": "053f9bc0-7f08-4b72-94c0-1443938296db",
   "metadata": {},
   "source": [
    "#### In PySpark, when working with DataFrames, the `.show()` method is used to display the rows of the DataFrame in a tabular format, primarily for visual inspection during development or debugging."
   ]
  },
  {
   "cell_type": "markdown",
   "id": "f411523c-77e7-4cac-9b58-866b0ecddadf",
   "metadata": {},
   "source": [
    "`truncate=False`: Content in each cell of the table will be displayed in full, regardless of its length. This means that if you have very long content in some cells, the display might stretch out horizontally, making it harder to read, but ensuring you see the full content."
   ]
  },
  {
   "cell_type": "code",
   "execution_count": 13,
   "id": "fc56574f-3b30-4122-ab77-2626a6296ef6",
   "metadata": {},
   "outputs": [
    {
     "name": "stdout",
     "output_type": "stream",
     "text": [
      "+---------------------------------+-----+\n",
      "|DRIVER_ACTION                    |count|\n",
      "+---------------------------------+-----+\n",
      "|CELL PHONE USE OTHER THAN TEXTING|881  |\n",
      "|TEXTING                          |222  |\n",
      "+---------------------------------+-----+\n",
      "\n"
     ]
    }
   ],
   "source": [
    "phone = peoples.groupby(peoples.DRIVER_ACTION).count().filter((peoples.DRIVER_ACTION == 'CELL PHONE USE OTHER THAN TEXTING') | (peoples.DRIVER_ACTION == 'TEXTING'))\n",
    "phone.show(truncate=False)\n"
   ]
  },
  {
   "cell_type": "code",
   "execution_count": 14,
   "id": "3986f738-8973-436e-bc9b-fde5b14f2974",
   "metadata": {},
   "outputs": [
    {
     "name": "stdout",
     "output_type": "stream",
     "text": [
      "Crashes that occurs because of phone:  1103\n"
     ]
    }
   ],
   "source": [
    "phone_crashes = phone.groupBy().sum('count').collect()[0][0]\n",
    "print (\"Crashes that occurs because of phone: \", phone_crashes)"
   ]
  },
  {
   "cell_type": "code",
   "execution_count": 15,
   "id": "5516d5c8-eedd-470d-9c1c-0917a5af7e65",
   "metadata": {},
   "outputs": [
    {
     "name": "stdout",
     "output_type": "stream",
     "text": [
      "+---------------------------+-----+\n",
      "|DRIVER_ACTION              |count|\n",
      "+---------------------------+-----+\n",
      "|LICENSE RESTRICTIONS       |14   |\n",
      "|EVADING POLICE VEHICLE     |744  |\n",
      "|FOLLOWED TOO CLOSELY       |32437|\n",
      "|IMPROPER LANE CHANGE       |13216|\n",
      "|IMPROPER PARKING           |1858 |\n",
      "|TOO FAST FOR CONDITIONS    |7349 |\n",
      "|DISREGARDED CONTROL DEVICES|6503 |\n",
      "|IMPROPER TURN              |12293|\n",
      "|IMPROPER BACKING           |15535|\n",
      "|WRONG WAY/SIDE             |1531 |\n",
      "|IMPROPER PASSING           |10451|\n",
      "|STOPPED SCHOOL BUS         |63   |\n",
      "|FAILED TO YIELD            |45429|\n",
      "|EMERGENCY VEHICLE ON CALL  |369  |\n",
      "+---------------------------+-----+\n",
      "\n",
      "Crashes that occurs NOT because of phone:  147792\n"
     ]
    }
   ],
   "source": [
    "no_phone = peoples.groupby(peoples.DRIVER_ACTION).count().filter((peoples.DRIVER_ACTION != 'NONE') &(peoples.DRIVER_ACTION != 'UNKNOWN') & (peoples.DRIVER_ACTION != 'OTHER') & (peoples.DRIVER_ACTION != 'null') & (peoples.DRIVER_ACTION != 'CELL PHONE USE OTHER THAN TEXTING') &(peoples.DRIVER_ACTION != 'TEXTING'))\n",
    "no_phone.show(truncate=False)\n",
    "no_phone_crashes = no_phone.groupBy().sum('count').collect()[0][0]\n",
    "print (\"Crashes that occurs NOT because of phone: \", no_phone_crashes)"
   ]
  },
  {
   "cell_type": "code",
   "execution_count": 16,
   "id": "b460f1a8-4a74-4631-bd99-3239dcaf8349",
   "metadata": {},
   "outputs": [
    {
     "name": "stdout",
     "output_type": "stream",
     "text": [
      "Ratio of phone to non-phone crashes 1103 / 147792 = 0.7463191512395799\n"
     ]
    }
   ],
   "source": [
    "print (\"Ratio of phone to non-phone crashes\",phone_crashes,\"/\",no_phone_crashes, \"=\" , (100 * (phone_crashes / no_phone_crashes))) "
   ]
  },
  {
   "cell_type": "markdown",
   "id": "019d081c-1d14-4fd0-b8d2-b3cb6ae86f0e",
   "metadata": {},
   "source": [
    "**Q3: Find which three Age groups were involved with highest number of crashes.**"
   ]
  },
  {
   "cell_type": "code",
   "execution_count": 17,
   "id": "1492f188-f03d-48d7-a813-947a9a49c6c6",
   "metadata": {},
   "outputs": [],
   "source": [
    "from pyspark.sql.functions import col,isnull"
   ]
  },
  {
   "cell_type": "code",
   "execution_count": 18,
   "id": "84294b2f-ef9f-4e87-9b00-eba195d5e5e9",
   "metadata": {},
   "outputs": [
    {
     "data": {
      "text/plain": [
       "[('PERSON_ID', 'string'),\n",
       " ('PERSON_TYPE', 'string'),\n",
       " ('RD_NO', 'string'),\n",
       " ('VEHICLE_ID', 'string'),\n",
       " ('CRASH_DATE', 'string'),\n",
       " ('SEAT_NO', 'string'),\n",
       " ('CITY', 'string'),\n",
       " ('STATE', 'string'),\n",
       " ('ZIPCODE', 'string'),\n",
       " ('SEX', 'string'),\n",
       " ('AGE', 'int'),\n",
       " ('DRIVERS_LICENSE_STATE', 'string'),\n",
       " ('DRIVERS_LICENSE_CLASS', 'string'),\n",
       " ('SAFETY_EQUIPMENT', 'string'),\n",
       " ('AIRBAG_DEPLOYED', 'string'),\n",
       " ('EJECTION', 'string'),\n",
       " ('INJURY_CLASSIFICATION', 'string'),\n",
       " ('HOSPITAL', 'string'),\n",
       " ('EMS_AGENCY', 'string'),\n",
       " ('EMS_RUN_NO', 'string'),\n",
       " ('DRIVER_ACTION', 'string'),\n",
       " ('DRIVER_VISION', 'string'),\n",
       " ('PHYSICAL_CONDITION', 'string'),\n",
       " ('PEDPEDAL_ACTION', 'string'),\n",
       " ('PEDPEDAL_VISIBILITY', 'string'),\n",
       " ('PEDPEDAL_LOCATION', 'string'),\n",
       " ('BAC_RESULT', 'string'),\n",
       " ('BAC_RESULT VALUE', 'string'),\n",
       " ('CELL_PHONE_USE', 'string')]"
      ]
     },
     "execution_count": 18,
     "metadata": {},
     "output_type": "execute_result"
    }
   ],
   "source": [
    "# To be able to do mathematicl comparison or operations the variavle type should be numeric (int, double, float,...)\n",
    "# Here age is string which is text, we need to convert it to int first\n",
    "peoples = peoples.withColumn(\"AGE\", col(\"AGE\").cast(\"integer\"))\n",
    "peoples.dtypes"
   ]
  },
  {
   "cell_type": "code",
   "execution_count": 19,
   "id": "2c0f3872-9e17-4df5-b33d-7d8caf5ae7f4",
   "metadata": {},
   "outputs": [
    {
     "name": "stdout",
     "output_type": "stream",
     "text": [
      "+---+-----+\n",
      "|AGE|count|\n",
      "+---+-----+\n",
      "| 25|11614|\n",
      "| 27|11516|\n",
      "| 26|11361|\n",
      "+---+-----+\n",
      "\n"
     ]
    }
   ],
   "source": [
    "age_groups = peoples.filter(~isnull(col(\"AGE\"))).groupBy(\"AGE\").count().orderBy(\"count\", ascending=False).limit(3)\n",
    "age_groups.show()"
   ]
  },
  {
   "cell_type": "markdown",
   "id": "46efa272-699d-4e8c-8fb0-000ca50fc961",
   "metadata": {},
   "source": [
    "**Q4. Find which month of the year has the highest crashes.**"
   ]
  },
  {
   "cell_type": "code",
   "execution_count": null,
   "id": "4c373229-f2a0-4331-b049-73b967457553",
   "metadata": {},
   "outputs": [],
   "source": [
    "crashes.select(\"CRASH_DATE\").show(n=100,truncate=False)"
   ]
  },
  {
   "cell_type": "code",
   "execution_count": null,
   "id": "0ae05841-8557-4215-884c-b9b893e457b3",
   "metadata": {},
   "outputs": [],
   "source": [
    "from pyspark.sql.functions import month, dayofweek, to_date, substring"
   ]
  },
  {
   "cell_type": "code",
   "execution_count": null,
   "id": "90b036e0-342b-40ae-a5b5-cd7f4626b0f2",
   "metadata": {},
   "outputs": [],
   "source": [
    "crashes = crashes.withColumn(\"CRASH_DATE\", to_date(substring(crashes[\"CRASH_DATE\"], 1, 10), 'MM/dd/yyyy'))\n",
    "\n",
    "crashes.dtypes"
   ]
  },
  {
   "cell_type": "code",
   "execution_count": null,
   "id": "69e11d7a-011b-4a4b-95e1-5b0a1a03bdcd",
   "metadata": {},
   "outputs": [],
   "source": [
    "crashes.select(\"CRASH_DATE\").show(10, truncate=False)"
   ]
  },
  {
   "cell_type": "code",
   "execution_count": null,
   "id": "4dfae3e7-f07e-4756-a47f-5114a649d73a",
   "metadata": {},
   "outputs": [],
   "source": [
    "crashes_month = crashes.withColumn(\"Month\", month(crashes[\"CRASH_DATE\"])).groupBy(\"Month\").count().orderBy(\"count\", ascending=False).limit(1)\n",
    "crashes_month.show()"
   ]
  },
  {
   "cell_type": "markdown",
   "id": "de480535-e69e-4e36-a1f4-c3770d75c3cc",
   "metadata": {},
   "source": [
    "**Q5. Find which day of the week has the least crashes.**"
   ]
  },
  {
   "cell_type": "markdown",
   "id": "6173e0d1-936d-40c3-8d01-803c1660c10e",
   "metadata": {},
   "source": [
    "In the dayofweek function in PySpark, the days of the week are represented as integers from 1 (Sunday) to 7 (Saturday). <br>\n",
    "1.Sunday <br>\n",
    "2.Monday<br>\n",
    "3.Tuesday<br>\n",
    "4.Wednesday<br>\n",
    "5.Thursday<br>\n",
    "6.Friday<br>\n",
    "7.Saturday<br>"
   ]
  },
  {
   "cell_type": "code",
   "execution_count": null,
   "id": "34c7244c-bd28-4f4a-af41-d394c915d958",
   "metadata": {},
   "outputs": [],
   "source": [
    "crashes_day = crashes.withColumn(\"Day\", dayofweek(crashes[\"CRASH_DATE\"])).groupBy(\"day\").count().orderBy(\"count\", ascending=False).limit(1)\n",
    "crashes_day.show()"
   ]
  },
  {
   "cell_type": "markdown",
   "id": "43fe3aab-5dd5-4881-95b7-b55cd8137202",
   "metadata": {},
   "source": [
    "# This is end of Lab 04"
   ]
  },
  {
   "cell_type": "code",
   "execution_count": null,
   "id": "fdad18c4-f7eb-4ad6-9264-d4f710b2912e",
   "metadata": {},
   "outputs": [],
   "source": []
  }
 ],
 "metadata": {
  "kernelspec": {
   "display_name": "Python 3 (ipykernel)",
   "language": "python",
   "name": "python3"
  },
  "language_info": {
   "codemirror_mode": {
    "name": "ipython",
    "version": 3
   },
   "file_extension": ".py",
   "mimetype": "text/x-python",
   "name": "python",
   "nbconvert_exporter": "python",
   "pygments_lexer": "ipython3",
   "version": "3.13.5"
  }
 },
 "nbformat": 4,
 "nbformat_minor": 5
}
