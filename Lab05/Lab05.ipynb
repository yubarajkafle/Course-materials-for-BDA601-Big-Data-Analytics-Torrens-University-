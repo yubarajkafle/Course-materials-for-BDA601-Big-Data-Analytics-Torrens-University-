{
 "cells": [
  {
   "cell_type": "code",
   "execution_count": 1,
   "id": "6fdce901-0963-46b3-b56d-1bc44e76ffef",
   "metadata": {},
   "outputs": [],
   "source": [
    "#Import Libraries\n",
    "\n",
    "from pyspark.sql import SparkSession\n",
    "\n",
    "# Create Spark Context\n",
    "from pyspark.sql import functions as func # To use 'sum', 'count', and other functions\n",
    "from pyspark.sql.types import IntegerType, DoubleType"
   ]
  },
  {
   "cell_type": "markdown",
   "id": "7f104070-e41a-41e0-b490-71d5942d8b1e",
   "metadata": {},
   "source": [
    "### Pandas vs PySpark\n",
    "The complexity of Data Processing Tasks: PySpark is more suitable for complex data processing tasks that involve multiple stages of data transformation and analysis. Pandas is more suitable for simple data analysis tasks that involve filtering, selecting, and aggregating data."
   ]
  },
  {
   "cell_type": "code",
   "execution_count": 2,
   "id": "5c8d817c-5966-454f-9339-ad0a2f673320",
   "metadata": {},
   "outputs": [],
   "source": [
    "import pandas as pd # Python library to manage dataframes, similar as PySpark"
   ]
  },
  {
   "cell_type": "code",
   "execution_count": 3,
   "id": "c4b8bb36-fc44-41b6-b295-136ac79c2b80",
   "metadata": {},
   "outputs": [],
   "source": [
    "spark = SparkSession.builder.getOrCreate()"
   ]
  },
  {
   "cell_type": "code",
   "execution_count": 4,
   "id": "00b44ff3-ec06-43bd-afe9-bdd8fee6271b",
   "metadata": {},
   "outputs": [
    {
     "name": "stdout",
     "output_type": "stream",
     "text": [
      "+---+-------------+-------+---------+-------+-------+-------+----+--------+---+-----+--------+--------+-----+--------+--------+---+\n",
      "|age|          job|marital|education|default|balance|housing|loan| contact|day|month|duration|campaign|pdays|previous|poutcome|  y|\n",
      "+---+-------------+-------+---------+-------+-------+-------+----+--------+---+-----+--------+--------+-----+--------+--------+---+\n",
      "| 30|   unemployed|married|  primary|     no|   1787|     no|  no|cellular| 19|  oct|      79|       1|   -1|       0| unknown| no|\n",
      "| 33|     services|married|secondary|     no|   4789|    yes| yes|cellular| 11|  may|     220|       1|  339|       4| failure| no|\n",
      "| 35|   management| single| tertiary|     no|   1350|    yes|  no|cellular| 16|  apr|     185|       1|  330|       1| failure| no|\n",
      "| 30|   management|married| tertiary|     no|   1476|    yes| yes| unknown|  3|  jun|     199|       4|   -1|       0| unknown| no|\n",
      "| 59|  blue-collar|married|secondary|     no|      0|    yes|  no| unknown|  5|  may|     226|       1|   -1|       0| unknown| no|\n",
      "| 35|   management| single| tertiary|     no|    747|     no|  no|cellular| 23|  feb|     141|       2|  176|       3| failure| no|\n",
      "| 36|self-employed|married| tertiary|     no|    307|    yes|  no|cellular| 14|  may|     341|       1|  330|       2|   other| no|\n",
      "| 39|   technician|married|secondary|     no|    147|    yes|  no|cellular|  6|  may|     151|       2|   -1|       0| unknown| no|\n",
      "| 41| entrepreneur|married| tertiary|     no|    221|    yes|  no| unknown| 14|  may|      57|       2|   -1|       0| unknown| no|\n",
      "| 43|     services|married|  primary|     no|    -88|    yes| yes|cellular| 17|  apr|     313|       1|  147|       2| failure| no|\n",
      "| 39|     services|married|secondary|     no|   9374|    yes|  no| unknown| 20|  may|     273|       1|   -1|       0| unknown| no|\n",
      "| 43|       admin.|married|secondary|     no|    264|    yes|  no|cellular| 17|  apr|     113|       2|   -1|       0| unknown| no|\n",
      "| 36|   technician|married| tertiary|     no|   1109|     no|  no|cellular| 13|  aug|     328|       2|   -1|       0| unknown| no|\n",
      "| 20|      student| single|secondary|     no|    502|     no|  no|cellular| 30|  apr|     261|       1|   -1|       0| unknown|yes|\n",
      "| 31|  blue-collar|married|secondary|     no|    360|    yes| yes|cellular| 29|  jan|      89|       1|  241|       1| failure| no|\n",
      "| 40|   management|married| tertiary|     no|    194|     no| yes|cellular| 29|  aug|     189|       2|   -1|       0| unknown| no|\n",
      "| 56|   technician|married|secondary|     no|   4073|     no|  no|cellular| 27|  aug|     239|       5|   -1|       0| unknown| no|\n",
      "| 37|       admin.| single| tertiary|     no|   2317|    yes|  no|cellular| 20|  apr|     114|       1|  152|       2| failure| no|\n",
      "| 25|  blue-collar| single|  primary|     no|   -221|    yes|  no| unknown| 23|  may|     250|       1|   -1|       0| unknown| no|\n",
      "| 31|     services|married|secondary|     no|    132|     no|  no|cellular|  7|  jul|     148|       1|  152|       1|   other| no|\n",
      "+---+-------------+-------+---------+-------+-------+-------+----+--------+---+-----+--------+--------+-----+--------+--------+---+\n",
      "only showing top 20 rows\n"
     ]
    }
   ],
   "source": [
    "bank_data = spark.read.option('header','true').options(delimiter=\";\").csv('bank.csv', inferSchema=True)\n",
    "bank_data.show()\n",
    "# NOTE:\n",
    "# What is inferSchema=True???\n",
    "# Infer schema will automatically guess the data types for each field. If we set this option to TRUE, the API will read some sample records from the file to infer the schema. If we want to set this value to false, we must specify a schema explicitly"
   ]
  },
  {
   "cell_type": "code",
   "execution_count": 5,
   "id": "03144125-17b1-45d3-a3dc-269d8c05a5aa",
   "metadata": {},
   "outputs": [
    {
     "name": "stdout",
     "output_type": "stream",
     "text": [
      "root\n",
      " |-- age: integer (nullable = true)\n",
      " |-- job: string (nullable = true)\n",
      " |-- marital: string (nullable = true)\n",
      " |-- education: string (nullable = true)\n",
      " |-- default: string (nullable = true)\n",
      " |-- balance: integer (nullable = true)\n",
      " |-- housing: string (nullable = true)\n",
      " |-- loan: string (nullable = true)\n",
      " |-- contact: string (nullable = true)\n",
      " |-- day: integer (nullable = true)\n",
      " |-- month: string (nullable = true)\n",
      " |-- duration: integer (nullable = true)\n",
      " |-- campaign: integer (nullable = true)\n",
      " |-- pdays: integer (nullable = true)\n",
      " |-- previous: integer (nullable = true)\n",
      " |-- poutcome: string (nullable = true)\n",
      " |-- y: string (nullable = true)\n",
      "\n"
     ]
    }
   ],
   "source": [
    "# Showing the type of each column\n",
    "\n",
    "bank_data.printSchema()"
   ]
  },
  {
   "cell_type": "code",
   "execution_count": 6,
   "id": "5529b53a-d5aa-4b0e-911b-55bfb5ca4361",
   "metadata": {},
   "outputs": [
    {
     "data": {
      "text/plain": [
       "[Row(age=30, job='unemployed', marital='married', education='primary', default='no', balance=1787, housing='no', loan='no', contact='cellular', day=19, month='oct', duration=79, campaign=1, pdays=-1, previous=0, poutcome='unknown', y='no'),\n",
       " Row(age=33, job='services', marital='married', education='secondary', default='no', balance=4789, housing='yes', loan='yes', contact='cellular', day=11, month='may', duration=220, campaign=1, pdays=339, previous=4, poutcome='failure', y='no'),\n",
       " Row(age=35, job='management', marital='single', education='tertiary', default='no', balance=1350, housing='yes', loan='no', contact='cellular', day=16, month='apr', duration=185, campaign=1, pdays=330, previous=1, poutcome='failure', y='no'),\n",
       " Row(age=30, job='management', marital='married', education='tertiary', default='no', balance=1476, housing='yes', loan='yes', contact='unknown', day=3, month='jun', duration=199, campaign=4, pdays=-1, previous=0, poutcome='unknown', y='no'),\n",
       " Row(age=59, job='blue-collar', marital='married', education='secondary', default='no', balance=0, housing='yes', loan='no', contact='unknown', day=5, month='may', duration=226, campaign=1, pdays=-1, previous=0, poutcome='unknown', y='no')]"
      ]
     },
     "execution_count": 6,
     "metadata": {},
     "output_type": "execute_result"
    }
   ],
   "source": [
    "# Showing the first 5 rows of data\n",
    "\n",
    "bank_data.head(5)"
   ]
  },
  {
   "cell_type": "markdown",
   "id": "dda87843-1512-4824-a21d-8b3ae0120e13",
   "metadata": {},
   "source": [
    "## TASK 1"
   ]
  },
  {
   "cell_type": "markdown",
   "id": "4410564e-9b31-4803-8205-b7271de2903f",
   "metadata": {},
   "source": [
    "### Calculate the Mean, Median, and Standard Deviation of all the variables/attributes of numeric type:"
   ]
  },
  {
   "cell_type": "markdown",
   "id": "3fda3d80-e06d-4871-9388-a76ad0afc573",
   "metadata": {},
   "source": [
    "**Getting a Database:** Once you have a connected aninstance of MngoClient, you can access any database managed by the specified MngoDB server. To define which database you want to use, you can use the dot notation."
   ]
  },
  {
   "cell_type": "markdown",
   "id": "f029a94e-e6ea-4e46-937e-7890d3327f47",
   "metadata": {},
   "source": [
    "### Method 1"
   ]
  },
  {
   "cell_type": "markdown",
   "id": "c72fae6c-bcb0-42f9-82df-769806227d18",
   "metadata": {},
   "source": [
    "### Using 'describe' function to provide the basic statisticsa"
   ]
  },
  {
   "cell_type": "code",
   "execution_count": 7,
   "id": "21d2ec80-7160-4157-8eaf-6d710a1c7d87",
   "metadata": {},
   "outputs": [
    {
     "name": "stdout",
     "output_type": "stream",
     "text": [
      "+-------+------------------+------------------+------------------+------------------+------------------+------------------+\n",
      "|summary|               age|           balance|               day|          duration|             pdays|          previous|\n",
      "+-------+------------------+------------------+------------------+------------------+------------------+------------------+\n",
      "|  count|              4521|              4521|              4521|              4521|              4521|              4521|\n",
      "|   mean| 41.17009511170095|1422.6578190665782|15.915284229152842|263.96129174961294|39.766644547666445|0.5425790754257908|\n",
      "| stddev|10.576210958711263|3009.6381424673395| 8.247667327229934|259.85663262468216|100.12112444301656|1.6935623506071211|\n",
      "|    min|                19|             -3313|                 1|                 4|                -1|                 0|\n",
      "|    max|                87|             71188|                31|              3025|               871|                25|\n",
      "+-------+------------------+------------------+------------------+------------------+------------------+------------------+\n",
      "\n"
     ]
    }
   ],
   "source": [
    "bank_data.select('age', 'balance', 'day', 'duration', 'pdays', 'previous').describe().show()"
   ]
  },
  {
   "cell_type": "markdown",
   "id": "b64639e5-4a71-47ba-9e9d-ad9a72703103",
   "metadata": {},
   "source": [
    "### Method 2"
   ]
  },
  {
   "cell_type": "code",
   "execution_count": 8,
   "id": "ff21a7d5-823e-48d5-87f4-742c11f2a527",
   "metadata": {},
   "outputs": [
    {
     "name": "stdout",
     "output_type": "stream",
     "text": [
      "+------------------+\n",
      "|       stddev(age)|\n",
      "+------------------+\n",
      "|10.576210958711263|\n",
      "+------------------+\n",
      "\n"
     ]
    }
   ],
   "source": [
    "bank_data.select(func.stddev('age')).show()"
   ]
  },
  {
   "cell_type": "code",
   "execution_count": 9,
   "id": "e480cd33-18d8-443e-b5f0-5a7c24da75ea",
   "metadata": {},
   "outputs": [
    {
     "name": "stdout",
     "output_type": "stream",
     "text": [
      "+-----------------+\n",
      "|         avg(age)|\n",
      "+-----------------+\n",
      "|41.17009511170095|\n",
      "+-----------------+\n",
      "\n"
     ]
    }
   ],
   "source": [
    "bank_data.select(func.mean('age')).show()"
   ]
  },
  {
   "cell_type": "code",
   "execution_count": 10,
   "id": "c643e536-3365-4401-8d86-5f3377191868",
   "metadata": {},
   "outputs": [
    {
     "name": "stdout",
     "output_type": "stream",
     "text": [
      "+--------+\n",
      "|max(age)|\n",
      "+--------+\n",
      "|      87|\n",
      "+--------+\n",
      "\n"
     ]
    }
   ],
   "source": [
    "bank_data.select(func.max('age')).show()"
   ]
  },
  {
   "cell_type": "code",
   "execution_count": 11,
   "id": "65c220d6-c6f1-420b-b74a-ee1ddca15296",
   "metadata": {},
   "outputs": [
    {
     "name": "stdout",
     "output_type": "stream",
     "text": [
      "+--------+\n",
      "|min(age)|\n",
      "+--------+\n",
      "|      19|\n",
      "+--------+\n",
      "\n"
     ]
    }
   ],
   "source": [
    "bank_data.select(func.min('age')).show()"
   ]
  },
  {
   "cell_type": "code",
   "execution_count": 12,
   "id": "0135bcdd-5df3-4b97-b6d0-f58d379db912",
   "metadata": {
    "scrolled": true
   },
   "outputs": [
    {
     "data": {
      "text/plain": [
       "Row(avg(age)=41.17009511170095, avg(balance)=1422.6578190665782, avg(day)=15.915284229152842, avg(duration)=263.96129174961294, avg(campaign)=2.793629727936297, avg(pdays)=39.766644547666445, avg(previous)=0.5425790754257908)"
      ]
     },
     "execution_count": 12,
     "metadata": {},
     "output_type": "execute_result"
    }
   ],
   "source": [
    "#Mean of all columns\n",
    "#bank_data.select([func.mean(c) for c in bank_data.columns]).first()\n",
    "# Calculate the mean only for the numeric columns\n",
    "# Get the list of all numeric columns\n",
    "numeric_cols = [\n",
    "    c for c, dtype in bank_data.dtypes \n",
    "    if dtype in ('int', 'integer', 'bigint', 'float', 'double', 'decimal')\n",
    "]\n",
    "# Calculate the mean only for the numeric columns\n",
    "bank_data.select([func.mean(c) for c in numeric_cols]).first()"
   ]
  },
  {
   "cell_type": "markdown",
   "id": "362d9eb3-7ba8-49d0-a66a-90d0b0ba35b5",
   "metadata": {},
   "source": [
    "### Task 2"
   ]
  },
  {
   "cell_type": "markdown",
   "id": "4e2caa07-94d7-40ea-8cad-1ed85bcb1557",
   "metadata": {},
   "source": [
    "### Create a bar graph of the variables/attribute: Previous"
   ]
  },
  {
   "cell_type": "markdown",
   "id": "5b0b9b49-62c0-4f74-abb1-62379f71afde",
   "metadata": {},
   "source": [
    "#### We can  use the built-in functionality of Pandas to draw a chart"
   ]
  },
  {
   "cell_type": "markdown",
   "id": "66d4a950-621d-44fd-9b6a-37f11d275ba3",
   "metadata": {},
   "source": [
    "### Notes\n",
    "\n",
    "ascending = False means from highest to lowest\n",
    "\n",
    "groupBy: It is used for grouping the data points (i.e. rows) based on the distinct values in the given column or columns. We can then calculate aggregated values for the generated groups.\n",
    "\n",
    "orderBy: Sorting"
   ]
  },
  {
   "cell_type": "code",
   "execution_count": 13,
   "id": "9fcb72a8-2982-4af1-9e34-5675a49d4a8e",
   "metadata": {},
   "outputs": [
    {
     "data": {
      "text/plain": [
       "[Row(job='management', sum(age)=39284, sum(balance)=1712154, sum(day)=15751, sum(duration)=252460, sum(campaign)=2881, sum(pdays)=39698, sum(previous)=532),\n",
       " Row(job='blue-collar', sum(age)=37988, sum(balance)=1026563, sum(day)=14646, sum(duration)=263141, sum(campaign)=2693, sum(pdays)=39345, sum(previous)=467),\n",
       " Row(job='technician', sum(age)=30313, sum(balance)=1022205, sum(day)=12429, sum(duration)=193673, sum(campaign)=2098, sum(pdays)=30156, sum(previous)=443),\n",
       " Row(job='admin.', sum(age)=18968, sum(balance)=586380, sum(day)=7803, sum(duration)=112172, sum(campaign)=1258, sum(pdays)=23897, sum(previous)=308),\n",
       " Row(job='services', sum(age)=16084, sum(balance)=460350, sum(day)=6470, sum(duration)=109457, sum(campaign)=1177, sum(pdays)=15167, sum(previous)=185),\n",
       " Row(job='retired', sum(age)=14230, sum(balance)=533414, sum(day)=3578, sum(duration)=65701, sum(campaign)=567, sum(pdays)=8067, sum(previous)=136),\n",
       " Row(job='self-employed', sum(age)=7586, sum(balance)=254811, sum(day)=2961, sum(duration)=48335, sum(campaign)=600, sum(pdays)=5171, sum(previous)=108),\n",
       " Row(job='student', sum(age)=2253, sum(balance)=129681, sum(day)=1377, sum(duration)=20890, sum(campaign)=201, sum(pdays)=3840, sum(previous)=81),\n",
       " Row(job='entrepreneur', sum(age)=7058, sum(balance)=276381, sum(day)=2563, sum(duration)=47960, sum(campaign)=435, sum(pdays)=5422, sum(previous)=72),\n",
       " Row(job='unemployed', sum(age)=5236, sum(balance)=139446, sum(day)=2060, sum(duration)=38562, sum(campaign)=343, sum(pdays)=4688, sum(previous)=62)]"
      ]
     },
     "execution_count": 13,
     "metadata": {},
     "output_type": "execute_result"
    }
   ],
   "source": [
    "# Create a new dataframe in which the rows are groups based on the distict values of 'job' column\n",
    "df = bank_data.groupBy('job').sum().orderBy(\"sum(previous)\", ascending=False)\n",
    "df.head(10)"
   ]
  },
  {
   "cell_type": "markdown",
   "id": "a075423f-bad6-47e0-a437-464534ac7d1f",
   "metadata": {},
   "source": [
    "#### Method 1: Using Pandas to graph"
   ]
  },
  {
   "cell_type": "code",
   "execution_count": 14,
   "id": "80a85aa8-ed48-4b26-9df8-5caee45038e2",
   "metadata": {},
   "outputs": [
    {
     "data": {
      "text/plain": [
       "<Axes: xlabel='job'>"
      ]
     },
     "execution_count": 14,
     "metadata": {},
     "output_type": "execute_result"
    },
    {
     "data": {
      "image/png": "[encoded data removed]",
      "text/plain": [
       "<Figure size 640x480 with 1 Axes>"
      ]
     },
     "metadata": {},
     "output_type": "display_data"
    }
   ],
   "source": [
    "# Convert the PySpark dataframe to Pandas dataframe ( to be able to use the Pandas chart drawing functionality)\n",
    "\n",
    "df.toPandas().plot.bar(x='job', y='sum(previous)')"
   ]
  },
  {
   "cell_type": "markdown",
   "id": "c07b27a1-ab97-4526-ab1c-b961536db70d",
   "metadata": {},
   "source": [
    "#### Method 2: Using Matplotlib to graph"
   ]
  },
  {
   "cell_type": "code",
   "execution_count": 15,
   "id": "fd62d294-e3f1-40f3-83e9-7e3d30d2ea88",
   "metadata": {},
   "outputs": [
    {
     "data": {
      "image/png": "[encoded data removed]",
      "text/plain": [
       "<Figure size 640x480 with 1 Axes>"
      ]
     },
     "metadata": {},
     "output_type": "display_data"
    }
   ],
   "source": [
    "# Matplotlib is a comprehensive library for creating static, animated, and interactive visualizations in Python.\n",
    "\n",
    "import matplotlib.pyplot as plt\n",
    "\n",
    "# Create a bar chart using Matplotlib\n",
    "df_pan = df.toPandas() #Convert the PySpark dataframe to Pandas dataframe\n",
    "\n",
    "plt.bar(df_pan['job'], df_pan['sum(previous)'], width=0.5, color=\"orange\")\n",
    " \n",
    "# Set the chart title and labels\n",
    "plt.title('Plot Title')\n",
    "plt.xlabel('job')\n",
    "plt.ylabel('sum(previous)')\n",
    "\n",
    "plt.xticks(rotation = 90)\n",
    "\n",
    "plt.show()"
   ]
  },
  {
   "cell_type": "markdown",
   "id": "463ecc26-fe72-47fa-9431-92f06ac69eec",
   "metadata": {},
   "source": [
    "## Task 3"
   ]
  },
  {
   "cell_type": "markdown",
   "id": "e46eaffa-131f-44e9-80cf-d3b2741efbf5",
   "metadata": {},
   "source": [
    "#### Create a Normalised bar graph of the variable/attribute: Previous"
   ]
  },
  {
   "cell_type": "markdown",
   "id": "1e6219be-0057-4ecc-a386-f91b7126e76a",
   "metadata": {},
   "source": [
    "### Normalization"
   ]
  },
  {
   "cell_type": "markdown",
   "id": "ad1c459c-8344-4d4e-99ea-ad3d45aa6fb5",
   "metadata": {},
   "source": [
    "**Normalization:** The goal of normalization is to transform features to be on a similar scale. This improves the performance and training stability of the model."
   ]
  },
  {
   "cell_type": "markdown",
   "id": "ded980a9-4ed3-4a87-8002-426563357816",
   "metadata": {},
   "source": [
    "Add Normalised columns to the inout dataframe."
   ]
  },
  {
   "cell_type": "markdown",
   "id": "2afc4feb-4e1d-453a-89e4-e6dce97ca397",
   "metadata": {},
   "source": [
    "#### Using the min-max feature scaling"
   ]
  },
  {
   "cell_type": "markdown",
   "id": "4a2a692c-d1e9-4f18-86c6-00d6f11f5c71",
   "metadata": {},
   "source": [
    "The min-max approach (often called **Normalization**) rescales the feature to a hard and fast range of [0,1] by subtracting the minimum value of the feature then dividing by the range. We can apply the min-max scaling in Pandas using the `.min()` and `.max()` methods."
   ]
  },
  {
   "cell_type": "markdown",
   "id": "6e0f2c68-7223-4931-938d-661d651b6da2",
   "metadata": {},
   "source": [
    "$$\n",
    " \\frac{x-min}{max-min}\n",
    "$$"
   ]
  },
  {
   "cell_type": "code",
   "execution_count": 16,
   "id": "b6871783-fbb4-4ff2-99c7-e1cdb3dc8b70",
   "metadata": {},
   "outputs": [],
   "source": [
    "df_result = df.toPandas()\n",
    "df_result[\"sum(previous)_norm\"] = (df_result[\"sum(previous)\"] - df_result[\"sum(previous)\"].min()) / (df_result[\"sum(previous)\"].max()-df_result[\"sum(previous)\"].min())"
   ]
  },
  {
   "cell_type": "code",
   "execution_count": 17,
   "id": "25b35228-ed5e-473b-b7f7-877a6207b7e7",
   "metadata": {},
   "outputs": [
    {
     "data": {
      "text/html": [
       "<div>\n",
       "<style scoped>\n",
       "    .dataframe tbody tr th:only-of-type {\n",
       "        vertical-align: middle;\n",
       "    }\n",
       "\n",
       "    .dataframe tbody tr th {\n",
       "        vertical-align: top;\n",
       "    }\n",
       "\n",
       "    .dataframe thead th {\n",
       "        text-align: right;\n",
       "    }\n",
       "</style>\n",
       "<table border=\"1\" class=\"dataframe\">\n",
       "  <thead>\n",
       "    <tr style=\"text-align: right;\">\n",
       "      <th></th>\n",
       "      <th>job</th>\n",
       "      <th>sum(age)</th>\n",
       "      <th>sum(balance)</th>\n",
       "      <th>sum(day)</th>\n",
       "      <th>sum(duration)</th>\n",
       "      <th>sum(campaign)</th>\n",
       "      <th>sum(pdays)</th>\n",
       "      <th>sum(previous)</th>\n",
       "      <th>sum(previous)_norm</th>\n",
       "    </tr>\n",
       "  </thead>\n",
       "  <tbody>\n",
       "    <tr>\n",
       "      <th>0</th>\n",
       "      <td>management</td>\n",
       "      <td>39284</td>\n",
       "      <td>1712154</td>\n",
       "      <td>15751</td>\n",
       "      <td>252460</td>\n",
       "      <td>2881</td>\n",
       "      <td>39698</td>\n",
       "      <td>532</td>\n",
       "      <td>1.000000</td>\n",
       "    </tr>\n",
       "    <tr>\n",
       "      <th>1</th>\n",
       "      <td>blue-collar</td>\n",
       "      <td>37988</td>\n",
       "      <td>1026563</td>\n",
       "      <td>14646</td>\n",
       "      <td>263141</td>\n",
       "      <td>2693</td>\n",
       "      <td>39345</td>\n",
       "      <td>467</td>\n",
       "      <td>0.873294</td>\n",
       "    </tr>\n",
       "    <tr>\n",
       "      <th>2</th>\n",
       "      <td>technician</td>\n",
       "      <td>30313</td>\n",
       "      <td>1022205</td>\n",
       "      <td>12429</td>\n",
       "      <td>193673</td>\n",
       "      <td>2098</td>\n",
       "      <td>30156</td>\n",
       "      <td>443</td>\n",
       "      <td>0.826511</td>\n",
       "    </tr>\n",
       "    <tr>\n",
       "      <th>3</th>\n",
       "      <td>admin.</td>\n",
       "      <td>18968</td>\n",
       "      <td>586380</td>\n",
       "      <td>7803</td>\n",
       "      <td>112172</td>\n",
       "      <td>1258</td>\n",
       "      <td>23897</td>\n",
       "      <td>308</td>\n",
       "      <td>0.563353</td>\n",
       "    </tr>\n",
       "    <tr>\n",
       "      <th>4</th>\n",
       "      <td>services</td>\n",
       "      <td>16084</td>\n",
       "      <td>460350</td>\n",
       "      <td>6470</td>\n",
       "      <td>109457</td>\n",
       "      <td>1177</td>\n",
       "      <td>15167</td>\n",
       "      <td>185</td>\n",
       "      <td>0.323587</td>\n",
       "    </tr>\n",
       "    <tr>\n",
       "      <th>5</th>\n",
       "      <td>retired</td>\n",
       "      <td>14230</td>\n",
       "      <td>533414</td>\n",
       "      <td>3578</td>\n",
       "      <td>65701</td>\n",
       "      <td>567</td>\n",
       "      <td>8067</td>\n",
       "      <td>136</td>\n",
       "      <td>0.228070</td>\n",
       "    </tr>\n",
       "    <tr>\n",
       "      <th>6</th>\n",
       "      <td>self-employed</td>\n",
       "      <td>7586</td>\n",
       "      <td>254811</td>\n",
       "      <td>2961</td>\n",
       "      <td>48335</td>\n",
       "      <td>600</td>\n",
       "      <td>5171</td>\n",
       "      <td>108</td>\n",
       "      <td>0.173489</td>\n",
       "    </tr>\n",
       "    <tr>\n",
       "      <th>7</th>\n",
       "      <td>student</td>\n",
       "      <td>2253</td>\n",
       "      <td>129681</td>\n",
       "      <td>1377</td>\n",
       "      <td>20890</td>\n",
       "      <td>201</td>\n",
       "      <td>3840</td>\n",
       "      <td>81</td>\n",
       "      <td>0.120858</td>\n",
       "    </tr>\n",
       "    <tr>\n",
       "      <th>8</th>\n",
       "      <td>entrepreneur</td>\n",
       "      <td>7058</td>\n",
       "      <td>276381</td>\n",
       "      <td>2563</td>\n",
       "      <td>47960</td>\n",
       "      <td>435</td>\n",
       "      <td>5422</td>\n",
       "      <td>72</td>\n",
       "      <td>0.103314</td>\n",
       "    </tr>\n",
       "    <tr>\n",
       "      <th>9</th>\n",
       "      <td>unemployed</td>\n",
       "      <td>5236</td>\n",
       "      <td>139446</td>\n",
       "      <td>2060</td>\n",
       "      <td>38562</td>\n",
       "      <td>343</td>\n",
       "      <td>4688</td>\n",
       "      <td>62</td>\n",
       "      <td>0.083821</td>\n",
       "    </tr>\n",
       "    <tr>\n",
       "      <th>10</th>\n",
       "      <td>housemaid</td>\n",
       "      <td>5302</td>\n",
       "      <td>233386</td>\n",
       "      <td>1713</td>\n",
       "      <td>32775</td>\n",
       "      <td>280</td>\n",
       "      <td>2957</td>\n",
       "      <td>40</td>\n",
       "      <td>0.040936</td>\n",
       "    </tr>\n",
       "    <tr>\n",
       "      <th>11</th>\n",
       "      <td>unknown</td>\n",
       "      <td>1828</td>\n",
       "      <td>57065</td>\n",
       "      <td>602</td>\n",
       "      <td>8243</td>\n",
       "      <td>97</td>\n",
       "      <td>1377</td>\n",
       "      <td>19</td>\n",
       "      <td>0.000000</td>\n",
       "    </tr>\n",
       "  </tbody>\n",
       "</table>\n",
       "</div>"
      ],
      "text/plain": [
       "              job  sum(age)  sum(balance)  sum(day)  sum(duration)  \\\n",
       "0      management     39284       1712154     15751         252460   \n",
       "1     blue-collar     37988       1026563     14646         263141   \n",
       "2      technician     30313       1022205     12429         193673   \n",
       "3          admin.     18968        586380      7803         112172   \n",
       "4        services     16084        460350      6470         109457   \n",
       "5         retired     14230        533414      3578          65701   \n",
       "6   self-employed      7586        254811      2961          48335   \n",
       "7         student      2253        129681      1377          20890   \n",
       "8    entrepreneur      7058        276381      2563          47960   \n",
       "9      unemployed      5236        139446      2060          38562   \n",
       "10      housemaid      5302        233386      1713          32775   \n",
       "11        unknown      1828         57065       602           8243   \n",
       "\n",
       "    sum(campaign)  sum(pdays)  sum(previous)  sum(previous)_norm  \n",
       "0            2881       39698            532            1.000000  \n",
       "1            2693       39345            467            0.873294  \n",
       "2            2098       30156            443            0.826511  \n",
       "3            1258       23897            308            0.563353  \n",
       "4            1177       15167            185            0.323587  \n",
       "5             567        8067            136            0.228070  \n",
       "6             600        5171            108            0.173489  \n",
       "7             201        3840             81            0.120858  \n",
       "8             435        5422             72            0.103314  \n",
       "9             343        4688             62            0.083821  \n",
       "10            280        2957             40            0.040936  \n",
       "11             97        1377             19            0.000000  "
      ]
     },
     "execution_count": 17,
     "metadata": {},
     "output_type": "execute_result"
    }
   ],
   "source": [
    "df_result"
   ]
  },
  {
   "cell_type": "code",
   "execution_count": 18,
   "id": "816e1364-2104-42a0-aa2f-5e345f7e5db3",
   "metadata": {},
   "outputs": [
    {
     "data": {
      "text/plain": [
       "<Axes: xlabel='job'>"
      ]
     },
     "execution_count": 18,
     "metadata": {},
     "output_type": "execute_result"
    },
    {
     "data": {
      "image/png": "[encoded data removed]",
      "text/plain": [
       "<Figure size 640x480 with 1 Axes>"
      ]
     },
     "metadata": {},
     "output_type": "display_data"
    }
   ],
   "source": [
    "df_result.plot.bar(x='job', y='sum(previous)_norm')"
   ]
  },
  {
   "cell_type": "markdown",
   "id": "d4c58098-3f29-4751-973c-1701ada468a6",
   "metadata": {},
   "source": [
    "### Standardization"
   ]
  },
  {
   "cell_type": "markdown",
   "id": "e24a5425-fe56-47e0-afee-3e41b672cef7",
   "metadata": {},
   "source": [
    "The z-score method (often called **Standardization**) transforms the info into a distribution with mean of 0 and the standard deviation of 1. each standardized value is computed by subtracting the mean of the corresponding feature whn dividing by the sandard deviaiton."
   ]
  },
  {
   "cell_type": "markdown",
   "id": "150acb58-ee18-4e4e-88f3-6a3996157781",
   "metadata": {},
   "source": [
    "$$\n",
    " \\frac{x-mean}{stdev}\n",
    "$$"
   ]
  },
  {
   "cell_type": "code",
   "execution_count": 19,
   "id": "3219a406-cc2f-42ed-a9a7-96d1370ae967",
   "metadata": {},
   "outputs": [],
   "source": [
    "df_result[\"sum(previous)_std\"] = (df_result[\"sum(previous)\"] - df_result[\"sum(previous)\"].mean()) / (df_result[\"sum(previous)\"].std())"
   ]
  },
  {
   "cell_type": "code",
   "execution_count": 20,
   "id": "239da088-b5f3-4669-84cf-9b0d6c4da741",
   "metadata": {},
   "outputs": [
    {
     "data": {
      "text/html": [
       "<div>\n",
       "<style scoped>\n",
       "    .dataframe tbody tr th:only-of-type {\n",
       "        vertical-align: middle;\n",
       "    }\n",
       "\n",
       "    .dataframe tbody tr th {\n",
       "        vertical-align: top;\n",
       "    }\n",
       "\n",
       "    .dataframe thead th {\n",
       "        text-align: right;\n",
       "    }\n",
       "</style>\n",
       "<table border=\"1\" class=\"dataframe\">\n",
       "  <thead>\n",
       "    <tr style=\"text-align: right;\">\n",
       "      <th></th>\n",
       "      <th>job</th>\n",
       "      <th>sum(age)</th>\n",
       "      <th>sum(balance)</th>\n",
       "      <th>sum(day)</th>\n",
       "      <th>sum(duration)</th>\n",
       "      <th>sum(campaign)</th>\n",
       "      <th>sum(pdays)</th>\n",
       "      <th>sum(previous)</th>\n",
       "      <th>sum(previous)_norm</th>\n",
       "      <th>sum(previous)_std</th>\n",
       "    </tr>\n",
       "  </thead>\n",
       "  <tbody>\n",
       "    <tr>\n",
       "      <th>0</th>\n",
       "      <td>management</td>\n",
       "      <td>39284</td>\n",
       "      <td>1712154</td>\n",
       "      <td>15751</td>\n",
       "      <td>252460</td>\n",
       "      <td>2881</td>\n",
       "      <td>39698</td>\n",
       "      <td>532</td>\n",
       "      <td>1.000000</td>\n",
       "      <td>1.779601</td>\n",
       "    </tr>\n",
       "    <tr>\n",
       "      <th>1</th>\n",
       "      <td>blue-collar</td>\n",
       "      <td>37988</td>\n",
       "      <td>1026563</td>\n",
       "      <td>14646</td>\n",
       "      <td>263141</td>\n",
       "      <td>2693</td>\n",
       "      <td>39345</td>\n",
       "      <td>467</td>\n",
       "      <td>0.873294</td>\n",
       "      <td>1.426488</td>\n",
       "    </tr>\n",
       "    <tr>\n",
       "      <th>2</th>\n",
       "      <td>technician</td>\n",
       "      <td>30313</td>\n",
       "      <td>1022205</td>\n",
       "      <td>12429</td>\n",
       "      <td>193673</td>\n",
       "      <td>2098</td>\n",
       "      <td>30156</td>\n",
       "      <td>443</td>\n",
       "      <td>0.826511</td>\n",
       "      <td>1.296108</td>\n",
       "    </tr>\n",
       "    <tr>\n",
       "      <th>3</th>\n",
       "      <td>admin.</td>\n",
       "      <td>18968</td>\n",
       "      <td>586380</td>\n",
       "      <td>7803</td>\n",
       "      <td>112172</td>\n",
       "      <td>1258</td>\n",
       "      <td>23897</td>\n",
       "      <td>308</td>\n",
       "      <td>0.563353</td>\n",
       "      <td>0.562718</td>\n",
       "    </tr>\n",
       "    <tr>\n",
       "      <th>4</th>\n",
       "      <td>services</td>\n",
       "      <td>16084</td>\n",
       "      <td>460350</td>\n",
       "      <td>6470</td>\n",
       "      <td>109457</td>\n",
       "      <td>1177</td>\n",
       "      <td>15167</td>\n",
       "      <td>185</td>\n",
       "      <td>0.323587</td>\n",
       "      <td>-0.105481</td>\n",
       "    </tr>\n",
       "    <tr>\n",
       "      <th>5</th>\n",
       "      <td>retired</td>\n",
       "      <td>14230</td>\n",
       "      <td>533414</td>\n",
       "      <td>3578</td>\n",
       "      <td>65701</td>\n",
       "      <td>567</td>\n",
       "      <td>8067</td>\n",
       "      <td>136</td>\n",
       "      <td>0.228070</td>\n",
       "      <td>-0.371675</td>\n",
       "    </tr>\n",
       "    <tr>\n",
       "      <th>6</th>\n",
       "      <td>self-employed</td>\n",
       "      <td>7586</td>\n",
       "      <td>254811</td>\n",
       "      <td>2961</td>\n",
       "      <td>48335</td>\n",
       "      <td>600</td>\n",
       "      <td>5171</td>\n",
       "      <td>108</td>\n",
       "      <td>0.173489</td>\n",
       "      <td>-0.523785</td>\n",
       "    </tr>\n",
       "    <tr>\n",
       "      <th>7</th>\n",
       "      <td>student</td>\n",
       "      <td>2253</td>\n",
       "      <td>129681</td>\n",
       "      <td>1377</td>\n",
       "      <td>20890</td>\n",
       "      <td>201</td>\n",
       "      <td>3840</td>\n",
       "      <td>81</td>\n",
       "      <td>0.120858</td>\n",
       "      <td>-0.670463</td>\n",
       "    </tr>\n",
       "    <tr>\n",
       "      <th>8</th>\n",
       "      <td>entrepreneur</td>\n",
       "      <td>7058</td>\n",
       "      <td>276381</td>\n",
       "      <td>2563</td>\n",
       "      <td>47960</td>\n",
       "      <td>435</td>\n",
       "      <td>5422</td>\n",
       "      <td>72</td>\n",
       "      <td>0.103314</td>\n",
       "      <td>-0.719356</td>\n",
       "    </tr>\n",
       "    <tr>\n",
       "      <th>9</th>\n",
       "      <td>unemployed</td>\n",
       "      <td>5236</td>\n",
       "      <td>139446</td>\n",
       "      <td>2060</td>\n",
       "      <td>38562</td>\n",
       "      <td>343</td>\n",
       "      <td>4688</td>\n",
       "      <td>62</td>\n",
       "      <td>0.083821</td>\n",
       "      <td>-0.773681</td>\n",
       "    </tr>\n",
       "    <tr>\n",
       "      <th>10</th>\n",
       "      <td>housemaid</td>\n",
       "      <td>5302</td>\n",
       "      <td>233386</td>\n",
       "      <td>1713</td>\n",
       "      <td>32775</td>\n",
       "      <td>280</td>\n",
       "      <td>2957</td>\n",
       "      <td>40</td>\n",
       "      <td>0.040936</td>\n",
       "      <td>-0.893196</td>\n",
       "    </tr>\n",
       "    <tr>\n",
       "      <th>11</th>\n",
       "      <td>unknown</td>\n",
       "      <td>1828</td>\n",
       "      <td>57065</td>\n",
       "      <td>602</td>\n",
       "      <td>8243</td>\n",
       "      <td>97</td>\n",
       "      <td>1377</td>\n",
       "      <td>19</td>\n",
       "      <td>0.000000</td>\n",
       "      <td>-1.007279</td>\n",
       "    </tr>\n",
       "  </tbody>\n",
       "</table>\n",
       "</div>"
      ],
      "text/plain": [
       "              job  sum(age)  sum(balance)  sum(day)  sum(duration)  \\\n",
       "0      management     39284       1712154     15751         252460   \n",
       "1     blue-collar     37988       1026563     14646         263141   \n",
       "2      technician     30313       1022205     12429         193673   \n",
       "3          admin.     18968        586380      7803         112172   \n",
       "4        services     16084        460350      6470         109457   \n",
       "5         retired     14230        533414      3578          65701   \n",
       "6   self-employed      7586        254811      2961          48335   \n",
       "7         student      2253        129681      1377          20890   \n",
       "8    entrepreneur      7058        276381      2563          47960   \n",
       "9      unemployed      5236        139446      2060          38562   \n",
       "10      housemaid      5302        233386      1713          32775   \n",
       "11        unknown      1828         57065       602           8243   \n",
       "\n",
       "    sum(campaign)  sum(pdays)  sum(previous)  sum(previous)_norm  \\\n",
       "0            2881       39698            532            1.000000   \n",
       "1            2693       39345            467            0.873294   \n",
       "2            2098       30156            443            0.826511   \n",
       "3            1258       23897            308            0.563353   \n",
       "4            1177       15167            185            0.323587   \n",
       "5             567        8067            136            0.228070   \n",
       "6             600        5171            108            0.173489   \n",
       "7             201        3840             81            0.120858   \n",
       "8             435        5422             72            0.103314   \n",
       "9             343        4688             62            0.083821   \n",
       "10            280        2957             40            0.040936   \n",
       "11             97        1377             19            0.000000   \n",
       "\n",
       "    sum(previous)_std  \n",
       "0            1.779601  \n",
       "1            1.426488  \n",
       "2            1.296108  \n",
       "3            0.562718  \n",
       "4           -0.105481  \n",
       "5           -0.371675  \n",
       "6           -0.523785  \n",
       "7           -0.670463  \n",
       "8           -0.719356  \n",
       "9           -0.773681  \n",
       "10          -0.893196  \n",
       "11          -1.007279  "
      ]
     },
     "execution_count": 20,
     "metadata": {},
     "output_type": "execute_result"
    }
   ],
   "source": [
    "df_result"
   ]
  },
  {
   "cell_type": "code",
   "execution_count": 21,
   "id": "9892c812-e277-4ca6-a284-944ce46165f0",
   "metadata": {},
   "outputs": [
    {
     "data": {
      "text/plain": [
       "<Axes: xlabel='job'>"
      ]
     },
     "execution_count": 21,
     "metadata": {},
     "output_type": "execute_result"
    },
    {
     "data": {
      "image/png": "[encoded data removed]",
      "text/plain": [
       "<Figure size 640x480 with 1 Axes>"
      ]
     },
     "metadata": {},
     "output_type": "display_data"
    }
   ],
   "source": [
    "df_result.plot.bar(x='job', y='sum(previous)_std')"
   ]
  },
  {
   "cell_type": "code",
   "execution_count": 22,
   "id": "81ac1f44-ce0e-40aa-90b7-71e488e0df63",
   "metadata": {},
   "outputs": [
    {
     "data": {
      "text/plain": [
       "np.float64(5.551115123125783e-17)"
      ]
     },
     "execution_count": 22,
     "metadata": {},
     "output_type": "execute_result"
    }
   ],
   "source": [
    "df_result[\"sum(previous)_std\"].mean()"
   ]
  },
  {
   "cell_type": "code",
   "execution_count": 23,
   "id": "2b985d61-b717-4289-8b41-8f9c382f4d33",
   "metadata": {},
   "outputs": [
    {
     "data": {
      "text/plain": [
       "1.0"
      ]
     },
     "execution_count": 23,
     "metadata": {},
     "output_type": "execute_result"
    }
   ],
   "source": [
    "df_result[\"sum(previous)_std\"].std()"
   ]
  },
  {
   "cell_type": "markdown",
   "id": "c1294838-3560-42ad-9e49-bfbdc8a5c32d",
   "metadata": {},
   "source": [
    "### Task 4"
   ]
  },
  {
   "cell_type": "markdown",
   "id": "ef23cf37-f5fa-4096-86d0-cf63e952f9ef",
   "metadata": {},
   "source": [
    "#### Create a histogram of the variable/attribute: age"
   ]
  },
  {
   "cell_type": "code",
   "execution_count": 24,
   "id": "ad658fec-d41a-4389-bf21-a0ecc833610b",
   "metadata": {},
   "outputs": [
    {
     "data": {
      "text/plain": [
       "array([[<Axes: title={'center': 'age'}>]], dtype=object)"
      ]
     },
     "execution_count": 24,
     "metadata": {},
     "output_type": "execute_result"
    },
    {
     "data": {
      "image/png": "[encoded data removed]",
      "text/plain": [
       "<Figure size 640x480 with 1 Axes>"
      ]
     },
     "metadata": {},
     "output_type": "display_data"
    }
   ],
   "source": [
    "df = bank_data.select('age') # Selecting the column 'age'\n",
    "df.toPandas().hist(column='age') # Converting the dataframe to Pandas and then draw a histogram"
   ]
  },
  {
   "cell_type": "markdown",
   "id": "38b6aa26-30d3-4799-b717-14f11c3f0dd2",
   "metadata": {},
   "source": [
    "### Task 5"
   ]
  },
  {
   "cell_type": "markdown",
   "id": "6cc94b13-f340-42d4-86dc-31acf858f2e3",
   "metadata": {},
   "source": [
    "#### Create a histogram of the normalised variable/attribute: age"
   ]
  },
  {
   "cell_type": "code",
   "execution_count": 25,
   "id": "c611ac46-c2d2-4cff-be37-59d39c53f168",
   "metadata": {},
   "outputs": [
    {
     "data": {
      "text/html": [
       "<div>\n",
       "<style scoped>\n",
       "    .dataframe tbody tr th:only-of-type {\n",
       "        vertical-align: middle;\n",
       "    }\n",
       "\n",
       "    .dataframe tbody tr th {\n",
       "        vertical-align: top;\n",
       "    }\n",
       "\n",
       "    .dataframe thead th {\n",
       "        text-align: right;\n",
       "    }\n",
       "</style>\n",
       "<table border=\"1\" class=\"dataframe\">\n",
       "  <thead>\n",
       "    <tr style=\"text-align: right;\">\n",
       "      <th></th>\n",
       "      <th>age</th>\n",
       "      <th>age_norm</th>\n",
       "    </tr>\n",
       "  </thead>\n",
       "  <tbody>\n",
       "    <tr>\n",
       "      <th>0</th>\n",
       "      <td>30</td>\n",
       "      <td>0.161765</td>\n",
       "    </tr>\n",
       "    <tr>\n",
       "      <th>1</th>\n",
       "      <td>33</td>\n",
       "      <td>0.205882</td>\n",
       "    </tr>\n",
       "    <tr>\n",
       "      <th>2</th>\n",
       "      <td>35</td>\n",
       "      <td>0.235294</td>\n",
       "    </tr>\n",
       "    <tr>\n",
       "      <th>3</th>\n",
       "      <td>30</td>\n",
       "      <td>0.161765</td>\n",
       "    </tr>\n",
       "    <tr>\n",
       "      <th>4</th>\n",
       "      <td>59</td>\n",
       "      <td>0.588235</td>\n",
       "    </tr>\n",
       "    <tr>\n",
       "      <th>...</th>\n",
       "      <td>...</td>\n",
       "      <td>...</td>\n",
       "    </tr>\n",
       "    <tr>\n",
       "      <th>4516</th>\n",
       "      <td>33</td>\n",
       "      <td>0.205882</td>\n",
       "    </tr>\n",
       "    <tr>\n",
       "      <th>4517</th>\n",
       "      <td>57</td>\n",
       "      <td>0.558824</td>\n",
       "    </tr>\n",
       "    <tr>\n",
       "      <th>4518</th>\n",
       "      <td>57</td>\n",
       "      <td>0.558824</td>\n",
       "    </tr>\n",
       "    <tr>\n",
       "      <th>4519</th>\n",
       "      <td>28</td>\n",
       "      <td>0.132353</td>\n",
       "    </tr>\n",
       "    <tr>\n",
       "      <th>4520</th>\n",
       "      <td>44</td>\n",
       "      <td>0.367647</td>\n",
       "    </tr>\n",
       "  </tbody>\n",
       "</table>\n",
       "<p>4521 rows × 2 columns</p>\n",
       "</div>"
      ],
      "text/plain": [
       "      age  age_norm\n",
       "0      30  0.161765\n",
       "1      33  0.205882\n",
       "2      35  0.235294\n",
       "3      30  0.161765\n",
       "4      59  0.588235\n",
       "...   ...       ...\n",
       "4516   33  0.205882\n",
       "4517   57  0.558824\n",
       "4518   57  0.558824\n",
       "4519   28  0.132353\n",
       "4520   44  0.367647\n",
       "\n",
       "[4521 rows x 2 columns]"
      ]
     },
     "execution_count": 25,
     "metadata": {},
     "output_type": "execute_result"
    }
   ],
   "source": [
    "df_result = df.toPandas()\n",
    "df_result[\"age_norm\"] = (df_result[\"age\"] - df_result[\"age\"].min()) / (df_result[\"age\"].max()-df_result[\"age\"].min())\n",
    "df_result"
   ]
  },
  {
   "cell_type": "code",
   "execution_count": 26,
   "id": "8b570fe8-fb68-4fbe-ae15-5b8a102c8370",
   "metadata": {},
   "outputs": [
    {
     "data": {
      "text/plain": [
       "array([[<Axes: title={'center': 'age_norm'}>]], dtype=object)"
      ]
     },
     "execution_count": 26,
     "metadata": {},
     "output_type": "execute_result"
    },
    {
     "data": {
      "image/png": "[encoded data removed]",
      "text/plain": [
       "<Figure size 640x480 with 1 Axes>"
      ]
     },
     "metadata": {},
     "output_type": "display_data"
    }
   ],
   "source": [
    "df_result.hist(column='age_norm')"
   ]
  },
  {
   "cell_type": "markdown",
   "id": "eff4a05c-3006-4d84-b5a6-09a8c0b1631c",
   "metadata": {},
   "source": [
    "### Task 6`"
   ]
  },
  {
   "cell_type": "markdown",
   "id": "a4b03d8a-d3ca-46d4-9906-a9ba87d86e93",
   "metadata": {},
   "source": [
    "#### Bin (groupby) the variable/attribute age and create a bar chart"
   ]
  },
  {
   "cell_type": "code",
   "execution_count": 27,
   "id": "11e3f23f-d2eb-4af3-befa-1ee18b02789b",
   "metadata": {},
   "outputs": [
    {
     "data": {
      "text/plain": [
       "<Axes: xlabel='job'>"
      ]
     },
     "execution_count": 27,
     "metadata": {},
     "output_type": "execute_result"
    },
    {
     "data": {
      "image/png": "[encoded data removed]",
      "text/plain": [
       "<Figure size 640x480 with 1 Axes>"
      ]
     },
     "metadata": {},
     "output_type": "display_data"
    }
   ],
   "source": [
    "df=bank_data.groupBy('job').agg(func.mean('age')).orderBy('avg(age)', ascending=False)\n",
    "df.toPandas().plot.bar(x='job', y='avg(age)')"
   ]
  },
  {
   "cell_type": "markdown",
   "id": "18b94734-13c2-4d2b-bf4c-a308667a9424",
   "metadata": {},
   "source": [
    "### Task 7"
   ]
  },
  {
   "cell_type": "markdown",
   "id": "c877ad7a-dafa-4d50-82e3-2545f87c3fac",
   "metadata": {},
   "source": [
    "#### Create a scatter plot for the following variable/attribute: age and balance"
   ]
  },
  {
   "cell_type": "code",
   "execution_count": 28,
   "id": "6cb1c0e2-af51-4e2d-8350-416b47c12395",
   "metadata": {},
   "outputs": [
    {
     "data": {
      "text/plain": [
       "<Axes: xlabel='age', ylabel='balance'>"
      ]
     },
     "execution_count": 28,
     "metadata": {},
     "output_type": "execute_result"
    },
    {
     "data": {
      "image/png": "[encoded data removed]",
      "text/plain": [
       "<Figure size 640x480 with 1 Axes>"
      ]
     },
     "metadata": {},
     "output_type": "display_data"
    }
   ],
   "source": [
    "df = bank_data.select('age', 'balance')\n",
    "df.toPandas().plot.scatter(x='age', y='balance')"
   ]
  },
  {
   "cell_type": "markdown",
   "id": "a06dba5e-a13b-45aa-b95f-1b783d12990f",
   "metadata": {},
   "source": [
    "## Cleaning Data"
   ]
  },
  {
   "cell_type": "markdown",
   "id": "93e447dc-1583-4049-98ed-f68a42c190df",
   "metadata": {},
   "source": [
    "Consider a scenario in which the owner of the data set decides that any data under the ‘Job’ column that contains ‘unknown’ or ‘unemployed’ data should be considered inaccurate. Thus, those data should be removed from the dataset before data exploration.\n",
    "\n",
    "As part of this data removal operation (i.e., the data cleaning operation), you are requested to get rid of all the data rows in which the ‘Job’ column contains ‘unknown’ or ‘unemployed’ instead of data. You can remove these either using PySpark or Excel. Once these data have been removed, save the remaining data in a csv file named bank.csv as before."
   ]
  },
  {
   "cell_type": "markdown",
   "id": "2f07d473-9d2b-4e06-8916-63af6db60cc8",
   "metadata": {},
   "source": [
    "#### Filtering"
   ]
  },
  {
   "cell_type": "code",
   "execution_count": 29,
   "id": "fbfcb003-89dd-4c47-be27-b0f11e0ac112",
   "metadata": {},
   "outputs": [
    {
     "name": "stdout",
     "output_type": "stream",
     "text": [
      "+---+----------+--------+---------+-------+-------+-------+----+---------+---+-----+--------+--------+-----+--------+--------+---+\n",
      "|age|       job| marital|education|default|balance|housing|loan|  contact|day|month|duration|campaign|pdays|previous|poutcome|  y|\n",
      "+---+----------+--------+---------+-------+-------+-------+----+---------+---+-----+--------+--------+-----+--------+--------+---+\n",
      "| 30|unemployed| married|  primary|     no|   1787|     no|  no| cellular| 19|  oct|      79|       1|   -1|       0| unknown| no|\n",
      "| 40|unemployed| married|secondary|     no|    219|    yes|  no| cellular| 17|  nov|     204|       2|  196|       1| failure| no|\n",
      "| 31|unemployed|  single|  primary|     no|    406|     no|  no| cellular|  4|  feb|     736|       1|   -1|       0| unknown|yes|\n",
      "| 56|unemployed| married|  primary|     no|   3391|     no|  no| cellular| 21|  apr|     243|       1|   -1|       0| unknown|yes|\n",
      "| 24|unemployed|  single|secondary|     no|    119|     no|  no|  unknown| 15|  sep|      51|       1|   -1|       0| unknown| no|\n",
      "| 45|unemployed|divorced|  primary|    yes|   -249|    yes| yes|  unknown|  1|  jul|      92|       1|   -1|       0| unknown| no|\n",
      "| 51|unemployed| married| tertiary|     no|   1634|    yes|  no| cellular| 22|  jul|     168|       4|   -1|       0| unknown| no|\n",
      "| 32|unemployed|  single|secondary|     no|      0|     no|  no| cellular| 27|  may|     123|       2|   -1|       0| unknown| no|\n",
      "| 28|unemployed|  single|secondary|     no|     16|     no|  no| cellular| 12|  aug|     119|       4|   -1|       0| unknown| no|\n",
      "| 38|unemployed| married|  primary|     no|   1147|    yes| yes|  unknown|  8|  may|     249|       5|   -1|       0| unknown| no|\n",
      "| 26|unemployed|  single|secondary|     no|   1064|     no|  no|  unknown| 31|  may|     113|       1|   -1|       0| unknown| no|\n",
      "| 51|unemployed| married|secondary|     no|   1760|     no| yes| cellular| 19|  nov|     162|       1|   -1|       0| unknown| no|\n",
      "| 35|unemployed| married|secondary|     no|    978|     no|  no| cellular| 29|  dec|    1370|       3|  209|       3| success|yes|\n",
      "| 55|unemployed| married| tertiary|     no|    383|     no|  no|  unknown|  6|  may|     343|       3|   -1|       0| unknown| no|\n",
      "| 31|unemployed| married|secondary|     no|    296|    yes|  no|  unknown| 20|  may|     378|       3|   -1|       0| unknown| no|\n",
      "| 45|unemployed|divorced|  primary|     no|    757|     no|  no| cellular| 20|  apr|     103|       1|  325|       4| failure| no|\n",
      "| 49|unemployed|divorced|secondary|     no|     66|     no|  no| cellular|  9|  jul|     218|       3|   -1|       0| unknown| no|\n",
      "| 59|unemployed| married|  primary|     no|      0|     no|  no| cellular| 30|  jan|    3025|       2|   -1|       0| unknown| no|\n",
      "| 37|unemployed|  single| tertiary|    yes|      0|    yes|  no| cellular| 10|  jul|     108|       1|   -1|       0| unknown| no|\n",
      "| 51|unemployed|  single| tertiary|     no|   1594|     no|  no|telephone|  4|  feb|     197|       1|   -1|       0| unknown| no|\n",
      "+---+----------+--------+---------+-------+-------+-------+----+---------+---+-----+--------+--------+-----+--------+--------+---+\n",
      "only showing top 20 rows\n"
     ]
    }
   ],
   "source": [
    "# Using 'where' to filter the data\n",
    "bank_data.where(bank_data.job=='unemployed').show() "
   ]
  },
  {
   "cell_type": "code",
   "execution_count": 30,
   "id": "20d35f88-2520-481a-ae5a-2667fe827c54",
   "metadata": {},
   "outputs": [
    {
     "name": "stdout",
     "output_type": "stream",
     "text": [
      "+---+----------+--------+---------+-------+-------+-------+----+--------+---+-----+--------+--------+-----+--------+--------+---+\n",
      "|age|       job| marital|education|default|balance|housing|loan| contact|day|month|duration|campaign|pdays|previous|poutcome|  y|\n",
      "+---+----------+--------+---------+-------+-------+-------+----+--------+---+-----+--------+--------+-----+--------+--------+---+\n",
      "| 30|unemployed| married|  primary|     no|   1787|     no|  no|cellular| 19|  oct|      79|       1|   -1|       0| unknown| no|\n",
      "| 40|unemployed| married|secondary|     no|    219|    yes|  no|cellular| 17|  nov|     204|       2|  196|       1| failure| no|\n",
      "| 41|   unknown|  single| tertiary|     no|   1567|     no|  no|cellular|  1|  jul|     291|       2|   -1|       0| unknown| no|\n",
      "| 31|unemployed|  single|  primary|     no|    406|     no|  no|cellular|  4|  feb|     736|       1|   -1|       0| unknown|yes|\n",
      "| 56|unemployed| married|  primary|     no|   3391|     no|  no|cellular| 21|  apr|     243|       1|   -1|       0| unknown|yes|\n",
      "| 24|unemployed|  single|secondary|     no|    119|     no|  no| unknown| 15|  sep|      51|       1|   -1|       0| unknown| no|\n",
      "| 45|unemployed|divorced|  primary|    yes|   -249|    yes| yes| unknown|  1|  jul|      92|       1|   -1|       0| unknown| no|\n",
      "| 37|   unknown| married|  unknown|     no|   1699|     no|  no| unknown|  9|  jun|      63|       1|   -1|       0| unknown| no|\n",
      "| 52|   unknown| married|secondary|     no|    142|     no|  no|cellular| 25|  aug|     112|       6|   -1|       0| unknown| no|\n",
      "| 51|unemployed| married| tertiary|     no|   1634|    yes|  no|cellular| 22|  jul|     168|       4|   -1|       0| unknown| no|\n",
      "| 32|unemployed|  single|secondary|     no|      0|     no|  no|cellular| 27|  may|     123|       2|   -1|       0| unknown| no|\n",
      "| 28|unemployed|  single|secondary|     no|     16|     no|  no|cellular| 12|  aug|     119|       4|   -1|       0| unknown| no|\n",
      "| 38|unemployed| married|  primary|     no|   1147|    yes| yes| unknown|  8|  may|     249|       5|   -1|       0| unknown| no|\n",
      "| 26|unemployed|  single|secondary|     no|   1064|     no|  no| unknown| 31|  may|     113|       1|   -1|       0| unknown| no|\n",
      "| 51|unemployed| married|secondary|     no|   1760|     no| yes|cellular| 19|  nov|     162|       1|   -1|       0| unknown| no|\n",
      "| 35|unemployed| married|secondary|     no|    978|     no|  no|cellular| 29|  dec|    1370|       3|  209|       3| success|yes|\n",
      "| 55|unemployed| married| tertiary|     no|    383|     no|  no| unknown|  6|  may|     343|       3|   -1|       0| unknown| no|\n",
      "| 31|unemployed| married|secondary|     no|    296|    yes|  no| unknown| 20|  may|     378|       3|   -1|       0| unknown| no|\n",
      "| 45|unemployed|divorced|  primary|     no|    757|     no|  no|cellular| 20|  apr|     103|       1|  325|       4| failure| no|\n",
      "| 49|unemployed|divorced|secondary|     no|     66|     no|  no|cellular|  9|  jul|     218|       3|   -1|       0| unknown| no|\n",
      "+---+----------+--------+---------+-------+-------+-------+----+--------+---+-----+--------+--------+-----+--------+--------+---+\n",
      "only showing top 20 rows\n"
     ]
    }
   ],
   "source": [
    "# Using 'and' (&) 'or' (|) to apply multiple conditions \n",
    "bank_data.where((bank_data.job=='unknown') | (bank_data.job=='unemployed')).show() "
   ]
  },
  {
   "cell_type": "code",
   "execution_count": 31,
   "id": "a1029518-2076-4fe0-903b-4507fa4333e3",
   "metadata": {},
   "outputs": [
    {
     "data": {
      "text/plain": [
       "4521"
      ]
     },
     "execution_count": 31,
     "metadata": {},
     "output_type": "execute_result"
    }
   ],
   "source": [
    "bank_data.count()"
   ]
  },
  {
   "cell_type": "code",
   "execution_count": 32,
   "id": "86e9f90a-9a4c-4605-ab16-57c62a57db97",
   "metadata": {},
   "outputs": [
    {
     "data": {
      "text/plain": [
       "166"
      ]
     },
     "execution_count": 32,
     "metadata": {},
     "output_type": "execute_result"
    }
   ],
   "source": [
    "bank_data.where((bank_data.job=='unknown') | (bank_data.job=='unemployed')).count()"
   ]
  },
  {
   "cell_type": "markdown",
   "id": "7e197e97-670d-4a9a-952a-7d9330195936",
   "metadata": {},
   "source": [
    "#### Removing the unwanted rows"
   ]
  },
  {
   "cell_type": "code",
   "execution_count": 33,
   "id": "69c5fb1d-b7b4-4438-a137-702632b03140",
   "metadata": {},
   "outputs": [],
   "source": [
    "df_cleaned = bank_data.where((bank_data.job!='unknown') & (bank_data.job!='unemployed'))"
   ]
  },
  {
   "cell_type": "code",
   "execution_count": 34,
   "id": "164f8a52-03b4-48fa-8926-632b01cf00ee",
   "metadata": {},
   "outputs": [
    {
     "data": {
      "text/plain": [
       "4355"
      ]
     },
     "execution_count": 34,
     "metadata": {},
     "output_type": "execute_result"
    }
   ],
   "source": [
    "df_cleaned.count()"
   ]
  },
  {
   "cell_type": "markdown",
   "id": "b6016ce6-a086-40be-bdca-97014f58d515",
   "metadata": {},
   "source": [
    "### Finding Duplicated Rows"
   ]
  },
  {
   "cell_type": "code",
   "execution_count": 35,
   "id": "1bde649a-06ec-4837-9789-6e9fad09c7f9",
   "metadata": {},
   "outputs": [
    {
     "name": "stdout",
     "output_type": "stream",
     "text": [
      "Empty DataFrame\n",
      "Columns: [age, job, marital, education, default, balance, housing, loan, contact, day, month, duration, campaign, pdays, previous, poutcome, y]\n",
      "Index: []\n"
     ]
    }
   ],
   "source": [
    "df = bank_data.toPandas()\n",
    "duplicated_rows = df[df.duplicated()]\n",
    "print(duplicated_rows)"
   ]
  },
  {
   "cell_type": "markdown",
   "id": "629f97bd-8b91-4fdd-aa11-dfbadc32de3f",
   "metadata": {},
   "source": [
    "#### Writing the cleaned dataframe to a csv file"
   ]
  },
  {
   "cell_type": "code",
   "execution_count": 36,
   "id": "567b23c8-1620-42f7-865e-4caa62e1195e",
   "metadata": {},
   "outputs": [
    {
     "name": "stdout",
     "output_type": "stream",
     "text": [
      "SUCCESS! Check your C: drive for bank_data_cleaned.csv\n"
     ]
    }
   ],
   "source": [
    "df_cleaned.toPandas().to_csv(\"bank_data_cleaned.csv\", index=False)\n",
    "print(\"SUCCESS! Check your C: drive for bank_data_cleaned.csv\")"
   ]
  },
  {
   "cell_type": "code",
   "execution_count": null,
   "id": "6b79d3bd-3bf8-4560-b790-9c4e723a6ec5",
   "metadata": {},
   "outputs": [],
   "source": []
  },
  {
   "cell_type": "code",
   "execution_count": null,
   "id": "f707a5e7-5360-42f0-a98f-c7b04983ced7",
   "metadata": {},
   "outputs": [],
   "source": []
  }
 ],
 "metadata": {
  "kernelspec": {
   "display_name": "Python 3 (ipykernel)",
   "language": "python",
   "name": "python3"
  },
  "language_info": {
   "codemirror_mode": {
    "name": "ipython",
    "version": 3
   },
   "file_extension": ".py",
   "mimetype": "text/x-python",
   "name": "python",
   "nbconvert_exporter": "python",
   "pygments_lexer": "ipython3",
   "version": "3.13.5"
  }
 },
 "nbformat": 4,
 "nbformat_minor": 5
}
